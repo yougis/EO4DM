{
 "cells": [
  {
   "cell_type": "markdown",
   "metadata": {},
   "source": [
    "# Notebook pour le calcul de l'indicateur global VHI (MODIS)"
   ]
  },
  {
   "attachments": {},
   "cell_type": "markdown",
   "metadata": {},
   "source": [
    "### Initialisation contexte test appli"
   ]
  },
  {
   "cell_type": "code",
   "execution_count": null,
   "metadata": {},
   "outputs": [],
   "source": [
    "import os\n",
    "\n",
    "# Manually filling Config dictionnary (can be filled by reading Config_process.env) :\n",
    "\n",
    "CONFIG = {}\n",
    "\n",
    "CONFIG['WRK_DIR'] = os.path.normpath('D:/MATHIS/0_Projet_Secheresse/1_Scripts/toolbox/eo4dm-oeil/EO4DM')\n",
    "os.chdir(CONFIG['WRK_DIR'])\n",
    "CONFIG['WRK_DIR'] = os.path.normpath('Y:/EO4DM')\n",
    "CONFIG['DATA_HISTO'] = os.path.join(CONFIG['WRK_DIR'],'DATA_HISTO')\n",
    "CONFIG['ANNEX_DIR'] = os.path.join(CONFIG['WRK_DIR'],'ANNEX')\n",
    "\n",
    "CONFIG['TERRITORY'] = 'New Caledonia (Fr)'\n",
    "CONFIG['PERIOD_START'] = '2000-02-01'\n",
    "CONFIG['PERIOD_END'] = '2000-02-01'\n",
    "CONFIG['DRIVE_FOLDER'] = 'EO4DM_EXPORT_NOTEBOOK'\n",
    "CONFIG['ASSET_EXPORT'] = 0                                # if 1, preproc products are exported to gee\n",
    "CONFIG['CLEAN_GEEFOLDER'] = 0                             # if 1, gee already existing folder is cleaned (deleted, and re-created)\n",
    "CONFIG['CLEAN_GEECOL'] = 0                                # if 1, gee already exported products are cleaned (deleted, and re-created)\n",
    "CONFIG['CLEAN_RUNFOLDER'] = 0                         # if 1, drought already existing folder is cleaned (deleted, and re-created)\n",
    "CONFIG['MODE'] = 'DROUGHT'                                # 'AUTO', 'MANUAL', 'INDICES' or 'DROUGHT' mode of drought processing chain\n",
    "CONFIG['DROUGHT_STATS'] = 1                               # if 1, drought spatial stats are estimated on all territory and sub-area (needed as input of alert chain).\n",
    "CONFIG['KEY_STATS'] = ''\n"
   ]
  },
  {
   "cell_type": "code",
   "execution_count": null,
   "metadata": {},
   "outputs": [],
   "source": [
    "import dmpipeline.DROUGHT_Processing.DROUGHT_global_functions as dglob\n",
    "OUTDIR_PATHS = dglob.prepare_RUNFolders(CONFIG)"
   ]
  },
  {
   "attachments": {},
   "cell_type": "markdown",
   "metadata": {},
   "source": [
    "### Calcul VHI (Vegetation Health Index) "
   ]
  },
  {
   "cell_type": "code",
   "execution_count": null,
   "metadata": {},
   "outputs": [],
   "source": [
    "dglob.process_GlobalDrought_VHI(CONFIG, OUTDIR_PATHS)"
   ]
  }
 ],
 "metadata": {
  "kernelspec": {
   "display_name": "dmpipeline-env",
   "language": "python",
   "name": "python3"
  },
  "language_info": {
   "codemirror_mode": {
    "name": "ipython",
    "version": 3
   },
   "file_extension": ".py",
   "mimetype": "text/x-python",
   "name": "python",
   "nbconvert_exporter": "python",
   "pygments_lexer": "ipython3",
   "version": "3.11.2"
  },
  "orig_nbformat": 4
 },
 "nbformat": 4,
 "nbformat_minor": 2
}
