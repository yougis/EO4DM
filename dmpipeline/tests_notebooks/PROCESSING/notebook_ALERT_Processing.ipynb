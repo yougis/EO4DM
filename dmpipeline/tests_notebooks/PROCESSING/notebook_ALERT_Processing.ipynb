{
 "cells": [
  {
   "cell_type": "markdown",
   "metadata": {},
   "source": [
    "# Notebook pour le calcul des alertes (synthèses communales)"
   ]
  },
  {
   "attachments": {},
   "cell_type": "markdown",
   "metadata": {},
   "source": [
    "### Initialisation contexte test appli"
   ]
  },
  {
   "cell_type": "code",
   "execution_count": null,
   "metadata": {},
   "outputs": [],
   "source": [
    "import os\n",
    "\n",
    "# Manually filling Config dictionnary (can be filled by reading Config_process.env) :\n",
    "\n",
    "CONFIG = {}\n",
    "\n",
    "CONFIG['WRK_DIR'] = os.path.normpath('D:/MATHIS/0_Projet_Secheresse/1_Scripts/toolbox/eo4dm-oeil/EO4DM')\n",
    "os.chdir(CONFIG['WRK_DIR'])\n",
    "CONFIG['WRK_DIR'] = os.path.normpath('Y:/EO4DM')\n",
    "CONFIG['DATA_HISTO'] = os.path.join(CONFIG['WRK_DIR'],'DATA_HISTO')\n",
    "CONFIG['ANNEX_DIR'] = os.path.join(CONFIG['WRK_DIR'],'ANNEX')\n",
    "\n",
    "CONFIG['TERRITORY'] = 'New Caledonia (Fr)'\n",
    "CONFIG['PERIOD_START'] = '2024-01-01'\n",
    "CONFIG['PERIOD_END'] = '2024-02-01'\n",
    "CONFIG['DRIVE_FOLDER'] = 'EO4DM_EXPORT_NOTEBOOK'\n",
    "CONFIG['CLEAN_RUNFOLDER'] = 0                         # if 1, drought already existing folder is cleaned (deleted, and re-created)\n",
    "CONFIG['MODE'] = 'DROUGHT'                                # 'AUTO', 'MANUAL', 'INDICES' or 'DROUGHT' mode of drought processing chain\n",
    "CONFIG['DROUGHT_STATS'] = 1                               # if 1, drought spatial stats are estimated on all territory and sub-area\n",
    "CONFIG['KEY_STATS'] = ''\n",
    "\n",
    "CONFIG['CRS_OUT_modis'] = 'EPSG:4326'\n",
    "CONFIG['lon_min_modis'] = 163.46601498126984\n",
    "CONFIG['lon_max_modis'] = 168.29999935626984\n",
    "CONFIG['lat_min_modis'] = -22.85859364271164\n",
    "CONFIG['lat_max_modis'] =-19.44843739271164\n"
   ]
  },
  {
   "cell_type": "markdown",
   "metadata": {},
   "source": [
    "### Création arborescence dossiers DATA_HISTO et controle ANNEX_DIR"
   ]
  },
  {
   "cell_type": "code",
   "execution_count": null,
   "metadata": {},
   "outputs": [],
   "source": [
    "import dmpipeline.ALERT_Processing.ALERT_main_functions as alertmain\n",
    "alertmain.prepare_DATAFolders(CONFIG)"
   ]
  },
  {
   "cell_type": "markdown",
   "metadata": {},
   "source": [
    "### Test to collect last ASCAT SWI from Copernicus server"
   ]
  },
  {
   "cell_type": "code",
   "execution_count": null,
   "metadata": {},
   "outputs": [],
   "source": [
    "import dmpipeline.ALERT_Processing.ALERT_data_access as alertaccess\n",
    "alertaccess.download_newProducts(CONFIG)\n"
   ]
  },
  {
   "cell_type": "markdown",
   "metadata": {},
   "source": [
    "### Test détection auto de la période à traiter (en fonction de data_histo)"
   ]
  },
  {
   "cell_type": "code",
   "execution_count": null,
   "metadata": {},
   "outputs": [],
   "source": [
    "import dmpipeline.ALERT_Processing.ALERT_main_functions as alertmain\n",
    "go_process, CONFIG['PERIOD_START'], CONFIG['PERIOD_END'] = alertmain.auto_processingPERIOD(CONFIG)\n",
    "\n",
    "print(f'go_process = {go_process}')\n",
    "PERIOD_START = CONFIG['PERIOD_START']\n",
    "PERIOD_END = CONFIG['PERIOD_END']\n",
    "print(f'PERIOD_START = {PERIOD_START}')\n",
    "print(f'PERIOD_END = {PERIOD_END}')"
   ]
  },
  {
   "cell_type": "markdown",
   "metadata": {},
   "source": [
    "### Test to CHECK/PREPARE all products"
   ]
  },
  {
   "cell_type": "code",
   "execution_count": null,
   "metadata": {},
   "outputs": [],
   "source": [
    "# Control ASCAT products availability updates PERIOD START/END :\n",
    "import dmpipeline.ALERT_Processing.ALERT_main_functions as alertmain\n",
    "go_ascat, COLLECTION_ASCAT, PERIOD_START_NEW, PERIOD_END_NEW = alertmain.Check_Products_ASCAT(CONFIG)\n",
    "print(f'go_ascat = {go_ascat}')\n",
    "print(f'NEW PERIOD_START = {PERIOD_START_NEW}')\n",
    "print(f'NEW PERIOD_END = {PERIOD_END_NEW}')\n",
    "CONFIG['PERIOD_START'] = PERIOD_START_NEW\n",
    "CONFIG['PERIOD_END'] = PERIOD_END_NEW\n",
    "\n",
    "# Control METEO products availability :\n",
    "go_meteo = alertmain.Check_Products_METEO(CONFIG)\n",
    "print(f'go_meteo = {go_meteo}')\n",
    "\n",
    "# # Control VHI products availability :\n",
    "go_vhi = alertmain.Check_Products_VHI(CONFIG)\n",
    "print(f'go_vhi = {go_vhi}')\n"
   ]
  },
  {
   "cell_type": "markdown",
   "metadata": {},
   "source": [
    "### Full Test For Checking products"
   ]
  },
  {
   "cell_type": "code",
   "execution_count": null,
   "metadata": {},
   "outputs": [],
   "source": [
    "(go_products, COLLECTION_ASCAT, CONFIG['PERIOD_START'], CONFIG['PERIOD_END'],\n",
    " CONFIG['TERRITORY'], OUTDIR_PATHS) = alertmain.CheckInit_Products_ALERT(CONFIG)\n",
    "PERIOD_START_NEW = CONFIG['PERIOD_START']\n",
    "PERIOD_END_NEW = CONFIG['PERIOD_END']\n",
    "TERRITORY = CONFIG['TERRITORY']\n",
    "print(f'go_products = {go_products}')\n",
    "print(f'NEW PERIOD_START = {PERIOD_START_NEW}')\n",
    "print(f'NEW PERIOD_END = {PERIOD_END_NEW}')\n",
    "print(f'TERRITORY = {TERRITORY}')"
   ]
  },
  {
   "cell_type": "markdown",
   "metadata": {},
   "source": [
    "### Test to initialize ASCAT processing (extracting paths to local products)"
   ]
  },
  {
   "cell_type": "code",
   "execution_count": null,
   "metadata": {},
   "outputs": [],
   "source": [
    "alertmain.processingASCAT(CONFIG, OUTDIR_PATHS, COLLECTION_ASCAT)"
   ]
  },
  {
   "cell_type": "markdown",
   "metadata": {},
   "source": [
    "### Test to process Moisture Deficit MAI"
   ]
  },
  {
   "cell_type": "code",
   "execution_count": null,
   "metadata": {},
   "outputs": [],
   "source": [
    "alertmain.process_MoistureDeficit_MAI(CONFIG, OUTDIR_PATHS)"
   ]
  },
  {
   "cell_type": "markdown",
   "metadata": {},
   "source": [
    "### Création dossier de sortie RUN"
   ]
  },
  {
   "cell_type": "code",
   "execution_count": null,
   "metadata": {},
   "outputs": [],
   "source": [
    "import dmpipeline.ALERT_Processing.ALERT_main_functions as alertmain\n",
    "\n",
    "OUTDIR_PATHS = alertmain.prepare_RUNFolders(CONFIG)"
   ]
  },
  {
   "cell_type": "markdown",
   "metadata": {},
   "source": [
    "### Test to process DROUGHT ALERTS"
   ]
  },
  {
   "cell_type": "code",
   "execution_count": null,
   "metadata": {},
   "outputs": [],
   "source": [
    "alertmain.process_DroughtAlert(CONFIG, OUTDIR_PATHS)"
   ]
  }
 ],
 "metadata": {
  "kernelspec": {
   "display_name": "dmpipeline-env",
   "language": "python",
   "name": "python3"
  },
  "language_info": {
   "codemirror_mode": {
    "name": "ipython",
    "version": 3
   },
   "file_extension": ".py",
   "mimetype": "text/x-python",
   "name": "python",
   "nbconvert_exporter": "python",
   "pygments_lexer": "ipython3",
   "version": "3.11.2"
  },
  "orig_nbformat": 4
 },
 "nbformat": 4,
 "nbformat_minor": 2
}
