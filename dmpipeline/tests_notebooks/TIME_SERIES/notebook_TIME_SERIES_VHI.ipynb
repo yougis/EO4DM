{
 "cells": [
  {
   "cell_type": "markdown",
   "metadata": {},
   "source": [
    "# Notebook pour le calcul des séries temporelles VHI (MODIS)"
   ]
  },
  {
   "attachments": {},
   "cell_type": "markdown",
   "metadata": {},
   "source": [
    "### Initialisation contexte test appli"
   ]
  },
  {
   "cell_type": "code",
   "execution_count": null,
   "metadata": {},
   "outputs": [],
   "source": [
    "import os\n",
    "\n",
    "WRK_DIR = os.path.normpath('/media/archive/EO4DM')\n",
    "os.chdir(WRK_DIR)\n",
    "# WRK_DIR = os.path.join(WRK_DIR,'..')\n",
    "\n",
    "TERRITORY = 'French Polynesia (Fr)'\n",
    "PRODUCT = 'VHI'\n",
    "PERIOD = 'DECADE'\n",
    "areas_key = 'Name'\n",
    "CLEAN_RUNFOLDER = 0\n",
    "\n",
    "TERRITORY_str = TERRITORY.replace(' ', '_').replace('(', '').replace(')', '')\n",
    "DATA_HISTO = os.path.join(WRK_DIR,'DATA_HISTO',TERRITORY_str)\n",
    "ANNEX_DIR = os.path.join(WRK_DIR,'ANNEX',TERRITORY_str)\n",
    "INDIR_DATA = os.path.join(DATA_HISTO,'1_INDICATEURS','GLOBAL',PERIOD)"
   ]
  },
  {
   "cell_type": "code",
   "execution_count": null,
   "metadata": {},
   "outputs": [],
   "source": [
    "import glob\n",
    "import shutil\n",
    "import rasterio\n",
    "import numpy as np\n",
    "import pandas as pd\n",
    "from tqdm import tqdm\n",
    "import dmpipeline.ALERT_Processing.ALERT_main_functions as alertmain\n",
    "import dmpipeline.GEOSTATS_Processing.GEOSTATS_processing_functions as geostats"
   ]
  },
  {
   "cell_type": "markdown",
   "metadata": {},
   "source": [
    "### Prépare le dossier de sortie"
   ]
  },
  {
   "cell_type": "code",
   "execution_count": null,
   "metadata": {},
   "outputs": [],
   "source": [
    "# --- Generate directories/sub-directories ---\n",
    "OUTDIR_STATS = os.path.join(WRK_DIR, f'TIME_SERIES_GLOBAL_DROUGHT_{TERRITORY_str}')\n",
    "os.umask(0) # used to reset the directories permission\n",
    "if not os.path.exists(OUTDIR_STATS):\n",
    "    os.makedirs(OUTDIR_STATS)\n",
    "    os.chmod(OUTDIR_STATS, 0o777)\n",
    "elif int(CLEAN_RUNFOLDER)==1:\n",
    "    shutil.rmtree(OUTDIR_STATS)\n",
    "    os.makedirs(OUTDIR_STATS)\n",
    "    os.chmod(OUTDIR_STATS, 0o777)\n"
   ]
  },
  {
   "attachments": {},
   "cell_type": "markdown",
   "metadata": {},
   "source": [
    "### Prépare données d'entrée (sat, masque)"
   ]
  },
  {
   "cell_type": "code",
   "execution_count": null,
   "metadata": {},
   "outputs": [],
   "source": [
    "in_files = glob.glob(os.path.join(INDIR_DATA, f'{PRODUCT}*.tif'))\n",
    "\n",
    "# --- Prepare input masks and look-up table (for estimating geostats) ---\n",
    "mask_ok = len(glob.glob(os.path.join(OUTDIR_STATS,'mask_Areas_*.tif')))>0\n",
    "if mask_ok==0:\n",
    "    file_areas = glob.glob(os.path.join(ANNEX_DIR, 'Areas', '*.shp'))\n",
    "    file_landcover = glob.glob(os.path.join(ANNEX_DIR, 'Landcover', '*.tif'))\n",
    "if len(file_areas)==0:\n",
    "    print('Drought spatial stats will not be estimated : missing input shapefile containing geometries/areas to identify')\n",
    "else:\n",
    "    file_areas = file_areas[0]\n",
    "    if len(file_landcover)!=0:\n",
    "        file_landcover = file_landcover[0]\n",
    "        go_landcover=1\n",
    "    else: go_landcover=0\n",
    "    geostats.prepareGeoStatsMasks(in_files[0], file_areas, OUTDIR_STATS, file_landcover=file_landcover, areas_key=areas_key)\n",
    "    with rasterio.open(glob.glob(os.path.join(OUTDIR_STATS,'mask_Areas.tif'))[0]) as area_ds:\n",
    "           maskAREA = area_ds.read(1)\n",
    "           mask = (maskAREA != 0)\n",
    "    area_lut = pd.read_csv(glob.glob(os.path.join(OUTDIR_STATS,'*.csv'))[0], sep=';')\n",
    "    if go_landcover==1:\n",
    "        with rasterio.open(glob.glob(os.path.join(OUTDIR_STATS,'mask_Areas_NOTrees_NOBuild.tif'))[0]) as NOTrees_ds, \\\n",
    "            rasterio.open(glob.glob(os.path.join(OUTDIR_STATS,'mask_Areas_Trees.tif'))[0]) as Trees_ds :\n",
    "            mask_NOTrees_NOBuild = NOTrees_ds.read(1)\n",
    "            mask_Trees = Trees_ds.read(1)\n",
    "\n",
    "# --- AND Verify if output stats dataframes already exist (yes -> do not add hearder in csv file) ---\n",
    "if PERIOD=='MONTH':\n",
    "    stats_ok = len(glob.glob(os.path.join(OUTDIR_STATS, f'{PRODUCT}_STATS_M*.csv')))>0\n",
    "elif PERIOD=='DECADE':\n",
    "    stats_ok = len(glob.glob(os.path.join(OUTDIR_STATS, f'{PRODUCT}_STATS_D*.csv')))>0\n"
   ]
  },
  {
   "cell_type": "markdown",
   "metadata": {},
   "source": [
    "### Calcul Geo Statistiques"
   ]
  },
  {
   "cell_type": "code",
   "execution_count": null,
   "metadata": {},
   "outputs": [],
   "source": [
    "count_head = 0 # the first time, add header to geostats data frame\n",
    "\n",
    "for in_f in tqdm(in_files):\n",
    "        \n",
    "    # --- Read input file ---\n",
    "    in_file_name = os.path.basename(in_f).split('.tif')[0]\n",
    "    full_date = in_file_name.split('_')[1]\n",
    "    period_indic = full_date[6:]\n",
    "\n",
    "    with rasterio.open(in_f) as in_ds:\n",
    "        profile_in = in_ds.profile      \n",
    "        DATA = in_ds.read(1)\n",
    "        if profile_in['count']==2:\n",
    "            DATA_QSCORE = in_ds.read(2)\n",
    "        else:\n",
    "            DATA_QSCORE = ~np.isnan(DATA)\n",
    "\n",
    "    # --- Estimate spatial stats ---\n",
    "    if period_indic=='M':\n",
    "        date_df = pd.to_datetime(full_date[:-1], format='%Y%m')\n",
    "        period_df = period_indic\n",
    "    elif period_indic=='D1':\n",
    "        date_df = pd.to_datetime(full_date[:-2]+'01', format='%Y%m%d')\n",
    "        period_df = 'D'\n",
    "    elif period_indic=='D2':\n",
    "        date_df = pd.to_datetime(full_date[:-2]+'11', format='%Y%m%d')\n",
    "        period_df = 'D'\n",
    "    elif period_indic=='D3':\n",
    "        date_df = pd.to_datetime(full_date[:-2]+'21', format='%Y%m%d')\n",
    "        period_df = 'D'\n",
    "    \n",
    "    if go_landcover==1:\n",
    "        GeoStats_df, GeoStats_df_NOTrees_NOBuild, GeoStats_df_Trees = geostats.extractGeoStats(DATA, DATA_QSCORE, date_df, mask, maskAREA,\n",
    "                                                                                               area_lut, TERRITORY, mask_NOTrees_NOBuild, mask_Trees)\n",
    "        GeoStats_df_NOTrees_NOBuild = GeoStats_df_NOTrees_NOBuild.sort_values(by=['LOCATION','DATE'])\n",
    "        GeoStats_df_Trees = GeoStats_df_Trees.sort_values(by=['LOCATION','DATE'])\n",
    "\n",
    "        GeoStats_df_NOTrees_NOBuild.to_csv(\n",
    "            os.path.join(OUTDIR_STATS, f'{PRODUCT}_STATS_{period_df}_NoTrees_NoBuild.csv'),\n",
    "            index = False,\n",
    "            float_format='%.2f',\n",
    "            decimal = '.',\n",
    "            sep = ';',\n",
    "            mode='a',\n",
    "            header = (count_head==0 and stats_ok==0))\n",
    "        GeoStats_df_Trees.to_csv(\n",
    "            os.path.join(OUTDIR_STATS, f'{PRODUCT}_STATS_{period_df}_Trees.csv'),\n",
    "            index = False,\n",
    "            float_format='%.2f',\n",
    "            decimal = '.',\n",
    "            sep = ';',\n",
    "            mode='a',\n",
    "            header = (count_head==0 and stats_ok==0))\n",
    "        \n",
    "        del GeoStats_df_NOTrees_NOBuild, GeoStats_df_Trees\n",
    "\n",
    "    else:\n",
    "        GeoStats_df, _, _ = geostats.extractGeoStats(DATA, DATA_QSCORE, date_df, mask, maskAREA, area_lut, TERRITORY)\n",
    "    \n",
    "    GeoStats_df = GeoStats_df.sort_values(by=['LOCATION','DATE'])\n",
    "\n",
    "    GeoStats_df.to_csv(os.path.join(OUTDIR_STATS, f'{PRODUCT}_STATS_{period_df}.csv'),\n",
    "        index = False,\n",
    "        float_format='%.2f',\n",
    "        decimal = '.',\n",
    "        sep = ';',\n",
    "        mode='a',\n",
    "        header = (count_head==0 and stats_ok==0))\n",
    "    \n",
    "    count_head += 1\n",
    "    \n",
    "    del GeoStats_df, period_df, date_df, DATA, DATA_QSCORE, in_file_name, full_date\n"
   ]
  }
 ],
 "metadata": {
  "kernelspec": {
   "display_name": "dmpipeline-env",
   "language": "python",
   "name": "python3"
  },
  "language_info": {
   "codemirror_mode": {
    "name": "ipython",
    "version": 3
   },
   "file_extension": ".py",
   "mimetype": "text/x-python",
   "name": "python",
   "nbconvert_exporter": "python",
   "pygments_lexer": "ipython3",
   "version": "3.11.2"
  },
  "orig_nbformat": 4
 },
 "nbformat": 4,
 "nbformat_minor": 2
}
