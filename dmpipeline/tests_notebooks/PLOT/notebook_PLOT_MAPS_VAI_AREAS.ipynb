{
 "cells": [
  {
   "cell_type": "markdown",
   "metadata": {},
   "source": [
    "# Notebook pour le tracé des cartes d'indicateurs VHI (RASTERS)"
   ]
  },
  {
   "attachments": {},
   "cell_type": "markdown",
   "metadata": {},
   "source": [
    "### Initialisation contexte test appli"
   ]
  },
  {
   "cell_type": "code",
   "execution_count": null,
   "metadata": {},
   "outputs": [],
   "source": [
    "import os\n",
    "\n",
    "WRK_DIR = os.path.normpath('D:/MATHIS/0_Projet_Secheresse/1_Scripts/toolbox/eo4dm-oeil/EO4DM')\n",
    "os.chdir(WRK_DIR)\n",
    "WRK_DIR= os.path.join('Y:/EO4DM')\n",
    "\n",
    "TERRITORY = 'New Caledonia (Fr)'\n",
    "TILE = '82075'\n",
    "PRODUCT = 'VAI'\n",
    "PERIOD = 'DECADE'\n",
    "AREA = 'POUEMBOUT'\n",
    "areas_key = 'nom'\n",
    "DATE = '202001D2'\n",
    "\n",
    "TERRITORY_str = TERRITORY.replace(' ', '_').replace('(', '').replace(')', '')\n",
    "DATA_HISTO = os.path.join(WRK_DIR,'DATA_HISTO',TERRITORY_str)\n",
    "ANNEX_DIR = os.path.join(WRK_DIR,'ANNEX',TERRITORY_str)\n",
    "INDIR_RASTERS = os.path.join(DATA_HISTO,'1_INDICATEURS/LOCAL',PERIOD)\n",
    "INDIR_ANNEX = os.path.join(ANNEX_DIR,'Areas')\n"
   ]
  },
  {
   "cell_type": "code",
   "execution_count": null,
   "metadata": {},
   "outputs": [],
   "source": [
    "import glob\n",
    "import numpy as np\n",
    "import geopandas as gpd\n",
    "import rasterio\n",
    "import rasterio.mask\n",
    "import matplotlib.pyplot as plt\n",
    "import matplotlib.colors as mcolors\n",
    "from matplotlib.patches import Polygon\n",
    "import contextily as ctx\n",
    "from matplotlib_scalebar.scalebar import ScaleBar\n"
   ]
  },
  {
   "cell_type": "markdown",
   "metadata": {},
   "source": [
    "### Prépare le dossier de sortie"
   ]
  },
  {
   "cell_type": "code",
   "execution_count": null,
   "metadata": {},
   "outputs": [],
   "source": [
    "# --- Generate directories/sub-directories ---\n",
    "OUTDIR_MAPS = os.path.join(WRK_DIR, f'PLOT_MAP_DROUGHT_{TERRITORY_str}')\n",
    "os.umask(0) # used to reset the directories permission\n",
    "if not os.path.exists(OUTDIR_MAPS):\n",
    "    os.makedirs(OUTDIR_MAPS)\n",
    "    os.chmod(OUTDIR_MAPS, 0o777)"
   ]
  },
  {
   "cell_type": "markdown",
   "metadata": {},
   "source": [
    "### Lecture et préparation des données"
   ]
  },
  {
   "cell_type": "code",
   "execution_count": null,
   "metadata": {},
   "outputs": [],
   "source": [
    "raster_in = glob.glob(os.path.join(INDIR_RASTERS, f'*{PRODUCT}_*{TILE}*{DATE}*.tif'))[0]\n",
    "contours_in = glob.glob(os.path.join(INDIR_ANNEX, '*.shp'))[0]\n",
    "gdf_contours = gpd.read_file(contours_in)\n",
    "gdf_area = gdf_contours[gdf_contours[areas_key] == AREA]"
   ]
  },
  {
   "cell_type": "markdown",
   "metadata": {},
   "source": [
    "### Définition des colormaps"
   ]
  },
  {
   "cell_type": "code",
   "execution_count": null,
   "metadata": {},
   "outputs": [],
   "source": [
    "colormap_drought = ['black', 'red', 'orange', 'yellow', 'white']\n",
    "class_drought = [-3, -2, -1.5, -1, 0, 3]\n",
    "color_nodata = '#DCDCDC' # lightgray\n",
    "# color_nodata = '#add8e6' # lightblue"
   ]
  },
  {
   "cell_type": "markdown",
   "metadata": {},
   "source": [
    "### Affichage et export de la carte"
   ]
  },
  {
   "cell_type": "code",
   "execution_count": null,
   "metadata": {},
   "outputs": [],
   "source": [
    "with rasterio.open(raster_in) as src:\n",
    "    src_crs = src.crs\n",
    "    gdf_area = gdf_area.to_crs(src_crs)\n",
    "    raster_data, raster_transform = rasterio.mask.mask(src, gdf_area.geometry, crop=True, invert=False, nodata=np.nan)\n",
    "    raster_data = raster_data[0]\n",
    "    bounds = gdf_area.geometry.bounds\n",
    "\n",
    "    cmap = mcolors.ListedColormap(colormap_drought)\n",
    "    norm = mcolors.BoundaryNorm(class_drought, cmap.N, clip=True)\n",
    "\n",
    "    fig, ax = plt.subplots(figsize=(5, 5))\n",
    "\n",
    "    ax.set_facecolor(color_nodata)\n",
    "    gdf_area.plot(ax=ax, facecolor='none', edgecolor='black', linewidth=1)\n",
    "\n",
    "    if TERRITORY=='Fiji' or TERRITORY=='Vanuatu':\n",
    "        for geometry in gdf_contours['geometry']:\n",
    "            if geometry.geom_type == 'Polygon':\n",
    "                ax.add_patch(plt.Polygon(list(geometry.exterior.coords), facecolor=color_nodata, zorder=-1))\n",
    "            elif geometry.geom_type == 'MultiPolygon':\n",
    "                for poly in geometry.geoms:\n",
    "                    ax.add_patch(plt.Polygon(list(poly.exterior.coords), facecolor=color_nodata, zorder=-1))\n",
    "\n",
    "    im = ax.imshow(raster_data, cmap=cmap, norm=norm, extent=(bounds.minx.values[0], bounds.maxx.values[0], bounds.miny.values[0], bounds.maxy.values[0]))\n",
    "    cbar  = plt.colorbar(im, ax=ax, ticks=class_drought, format=\"%1.1f\", shrink=0.6)\n",
    "    ctx.add_basemap(ax, crs=src_crs, source=ctx.providers.OpenStreetMap.Mapnik, zorder=-1)\n",
    "\n",
    "    # Add Scale bar\n",
    "    distance_meters = 1\n",
    "    if src_crs=='EPSG:4326':\n",
    "        points_x =[bounds.minx.values[0], bounds.minx.values[0]+1]\n",
    "        points_y = [bounds.miny.values[0], bounds.miny.values[0]]\n",
    "        points = gpd.GeoSeries.from_xy(points_x, points_y, crs='EPSG:4326')\n",
    "        points = points.to_crs(3395)\n",
    "        distance_meters = points[0].distance(points[1])\n",
    "    ax.add_artist(ScaleBar(distance_meters, location='lower right'))\n",
    "\n",
    "    # Add North arrow\n",
    "    arrow_properties = dict(facecolor='black', edgecolor='black', width=0.5, shrink=0.05)\n",
    "    ax.annotate('', xy=(0.05, 0.95), xytext=(0.05, 0.8),\n",
    "                arrowprops=arrow_properties, ha='center', va='bottom',\n",
    "                fontsize=12, color='black', xycoords='axes fraction')\n",
    "\n",
    "    plt.title(f'Indicateur {PRODUCT} - {DATE}\\n{TERRITORY_str}, {AREA}')\n",
    "    plt.tight_layout()\n",
    "    plt.show()\n",
    "\n",
    "\n",
    "    fig.savefig(os.path.join(OUTDIR_MAPS, f'maps_{PRODUCT}_{TERRITORY_str}_{AREA}_{DATE}.png'), dpi=300)\n"
   ]
  }
 ],
 "metadata": {
  "kernelspec": {
   "display_name": "dmpipeline-env",
   "language": "python",
   "name": "python3"
  },
  "language_info": {
   "codemirror_mode": {
    "name": "ipython",
    "version": 3
   },
   "file_extension": ".py",
   "mimetype": "text/x-python",
   "name": "python",
   "nbconvert_exporter": "python",
   "pygments_lexer": "ipython3",
   "version": "3.11.2"
  },
  "orig_nbformat": 4
 },
 "nbformat": 4,
 "nbformat_minor": 2
}
