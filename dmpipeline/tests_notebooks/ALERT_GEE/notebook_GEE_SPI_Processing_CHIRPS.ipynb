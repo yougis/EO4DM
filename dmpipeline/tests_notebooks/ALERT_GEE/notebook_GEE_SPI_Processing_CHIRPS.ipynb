{
 "cells": [
  {
   "attachments": {},
   "cell_type": "markdown",
   "metadata": {},
   "source": [
    "# Notebook pour le calcul des indicateurs SPI GEE (CHIRPS)"
   ]
  },
  {
   "cell_type": "markdown",
   "metadata": {},
   "source": [
    "D'après Fuentes (2022):\n",
    "\n",
    "@article{fuentes2022spatial,\n",
    "  title={Spatial and temporal global patterns of drought propagation},\n",
    "  author={Fuentes, Ignacio and Padarian, Jos{\\'e} and Vervoort, R Willem},\n",
    "  journal={Frontiers in Environmental Science},\n",
    "  volume={140},\n",
    "  year={2022},\n",
    "  publisher={Frontiers}\n",
    "}"
   ]
  },
  {
   "cell_type": "markdown",
   "metadata": {},
   "source": [
    "### Définition des variables d'environnement"
   ]
  },
  {
   "cell_type": "code",
   "execution_count": null,
   "metadata": {},
   "outputs": [],
   "source": [
    "import os\n",
    "\n",
    "WRK_DIR = os.path.normpath('D:/MATHIS/0_Projet_Secheresse/1_Scripts/toolbox/eo4dm-oeil/EO4DM')\n",
    "os.chdir(WRK_DIR)\n",
    "WRK_DIR = os.path.normpath('Y:/EO4DM')\n",
    "\n",
    "TERRITORY = 'New Caledonia (Fr)'\n",
    "PERIOD_START = '2000-01-01'\n",
    "PERIOD_END = '2024-01-01'\n",
    "DRIVE_FOLDER = 'EO4DM_EXPORT_NOTEBOOK'\n",
    "CLEAN_RUNFOLDER = 0\n",
    "\n",
    "TERRITORY_str = TERRITORY.replace(' ', '_').replace('(', '').replace(')', '')\n",
    "DATA_HISTO = os.path.join(WRK_DIR,'DATA_HISTO',TERRITORY_str)"
   ]
  },
  {
   "cell_type": "markdown",
   "metadata": {},
   "source": [
    "### Import des librairies"
   ]
  },
  {
   "cell_type": "code",
   "execution_count": null,
   "metadata": {},
   "outputs": [],
   "source": [
    "import ee\n",
    "import os\n",
    "import glob\n",
    "import rasterio\n",
    "import folium\n",
    "import shutil\n",
    "import numpy as np\n",
    "import pandas as pd\n",
    "from tqdm import tqdm\n",
    "import matplotlib.pyplot as plt\n",
    "import dmpipeline.GEE_Processing.GEE_generic_functions as geegen\n",
    "import dmpipeline.GEE_Processing.gee_accounts as geeauth"
   ]
  },
  {
   "cell_type": "markdown",
   "metadata": {},
   "source": [
    "### Authentification GEE"
   ]
  },
  {
   "cell_type": "code",
   "execution_count": null,
   "metadata": {},
   "outputs": [],
   "source": [
    "path2key = os.path.dirname(geeauth.__file__)\n",
    "project_id = geegen.googleAuthentification(path2key)"
   ]
  },
  {
   "cell_type": "markdown",
   "metadata": {},
   "source": [
    "### Fonctions pour la distribution gamma et la conversion normale des indices standardisés"
   ]
  },
  {
   "cell_type": "code",
   "execution_count": null,
   "metadata": {},
   "outputs": [],
   "source": [
    "def gammaf(img, alpha, beta):\n",
    "    inc = ee.Image(img).divide(beta).gammainc(alpha)\n",
    "    dist = img.where(ee.Image(img).lte(0), 0)\n",
    "    return dist.where(ee.Image(dist).gt(0), inc)\n",
    "\n",
    "\n",
    "def cummProbf(gamma, q):\n",
    "    return q.add((ee.Image(1).subtract(q)).multiply(gamma))\n",
    "\n",
    "\n",
    "def normInv(cummProb):\n",
    "     return cummProb.multiply(2).subtract(1).erfInv().multiply(ee.Image(2).sqrt())\n",
    "\n",
    "\n",
    "def conditional_clean(collection, month, month_lag):\n",
    "    def inner(year):\n",
    "        date = ee.Date.fromYMD(year, month, 1)\n",
    "        condition = ee.Algorithms.If(\n",
    "            ee.ImageCollection(collection.filterDate(date.advance(ee.Number(month_lag).multiply(-1), 'month'), date)).size().eq(0),\n",
    "            ee.Image().set({'drop':1}),\n",
    "            ee.ImageCollection(collection.filterDate(date.advance(ee.Number(month_lag).multiply(-1), 'month'), date)).sum().set({'drop':0}))\n",
    "        return ee.Image(condition)\n",
    "    return inner\n",
    "\n",
    "\n",
    "def zero_mask(img):\n",
    "    return ee.Image(img).updateMask(ee.Image(img).gt(0))\n",
    "\n",
    "\n",
    "def zero_gt(img):\n",
    "    return ee.Image(img).gt(0)\n",
    "\n",
    "\n",
    "def img_log(img):\n",
    "    return ee.Image(img).log()\n",
    "\n",
    "\n",
    "def gamma_params(collection, month, month_lag):\n",
    "    start_year = collection.limit(1, 'system:time_start', True).first().date().get('year')\n",
    "    end_year = collection.limit(1, 'system:time_start', False).first().date().get('year')\n",
    "    years = ee.List.sequence(start_year, end_year)\n",
    "    filteredColl = years.map(conditional_clean(collection, month, month_lag))\n",
    "    filteredColl = ee.ImageCollection.fromImages(filteredColl.filter(ee.Filter.eq('drop', 0)))\n",
    "    nonzeros = filteredColl.map(zero_mask)\n",
    "    average = ee.ImageCollection(nonzeros).mean()\n",
    "    sumLogs = ee.ImageCollection(nonzeros.map(img_log)).sum()\n",
    "    sizeNonZeros = ee.ImageCollection(filteredColl.map(zero_gt)).sum()\n",
    "    A = average.log().subtract(sumLogs.divide(sizeNonZeros))\n",
    "    alpha = ee.Image(1).divide(A.multiply(4)).multiply(A.multiply(4 / 3).add(1).sqrt().add(1)).rename('alpha')\n",
    "    beta = average.divide(alpha).rename('beta')\n",
    "    q = (ee.Image(filteredColl.size()).subtract(sizeNonZeros)).divide(ee.Image(filteredColl.size())).rename('q')\n",
    "    return alpha.addBands([beta, q]).set({'month': month})\n",
    "\n",
    "\n",
    "def standardised_index_function(collection, month, year, scale):\n",
    "    params = gamma_params(collection, month, scale)\n",
    "    img = collection.filterDate(ee.Date.fromYMD(year, month, 1).advance(ee.Number(scale).multiply(-1), 'month'),\n",
    "                                ee.Date.fromYMD(year, month, 1)).sum()\n",
    "    gamma = gammaf(img, ee.Image(params).select('alpha'), ee.Image(params).select('beta'))\n",
    "    gammaP = cummProbf(gamma, ee.Image(params).select('q'))\n",
    "    standardised_index = normInv(gammaP.toDouble()).set({'system:time_start': ee.Date.fromYMD(year, month, 1).millis(), \n",
    "                                                         'system:index':ee.Date.fromYMD(year, month, 1).format('YYYY_MM_dd')})\n",
    "    return standardised_index\n",
    "\n"
   ]
  },
  {
   "cell_type": "markdown",
   "metadata": {},
   "source": [
    "### Import de la collection et conversion des images de précipitations  en mm si besoin"
   ]
  },
  {
   "cell_type": "code",
   "execution_count": null,
   "metadata": {},
   "outputs": [],
   "source": [
    "def chirps_monthly_rain(img):\n",
    "    date_start = ee.Date(img.get('system:time_start'))\n",
    "    date_end = date_start.advance(1, 'month')\n",
    "    days = date_end.difference(date_start, 'day')\n",
    "    return img.multiply(ee.Image(days)).copyProperties(img, ['system:time_start', 'system:time_end'])\n",
    "\n",
    "\n",
    "collection = ee.ImageCollection(\"UCSB-CHG/CHIRPS/DAILY\").select('precipitation').map(chirps_monthly_rain)"
   ]
  },
  {
   "cell_type": "markdown",
   "metadata": {},
   "source": [
    "### Définition des paramètres"
   ]
  },
  {
   "cell_type": "code",
   "execution_count": null,
   "metadata": {},
   "outputs": [],
   "source": [
    "start_year = collection.limit(1, 'system:time_start', True).first().date().get('year')\n",
    "end_year = collection.limit(1, 'system:time_start', False).first().date().get('year')\n",
    "years = ee.List.sequence(start_year, end_year)\n",
    "geo = ee.Geometry.Point([165.4038, -21.5779])"
   ]
  },
  {
   "cell_type": "markdown",
   "metadata": {},
   "source": [
    "### Calcul/Affichage du SPI pour une date spécifique"
   ]
  },
  {
   "cell_type": "code",
   "execution_count": null,
   "metadata": {},
   "outputs": [],
   "source": [
    "month = 11\n",
    "year = 2019\n",
    "scale = 3 # monthly accumulation\n",
    "\n",
    "SPI_date = standardised_index_function(collection, month, year, scale)"
   ]
  },
  {
   "cell_type": "code",
   "execution_count": null,
   "metadata": {},
   "outputs": [],
   "source": [
    "mapidCon = ee.Image(SPI_date).getMapId({'min': -3, 'max': 3, 'palette': 'FF0000, FFFFFF, 0000FF', 'opacity':0.4})\n",
    "centroid = geo.coordinates().getInfo()[::-1]\n",
    "map = folium.Map(location=centroid, zoom_start=2)\n",
    "folium.TileLayer(\n",
    "    tiles = 'https://server.arcgisonline.com/ArcGIS/rest/services/World_Imagery/MapServer/tile/{z}/{y}/{x}',\n",
    "    attr='Map Data &copy; <a href=\"https://earthengine.google.com/\">Google Earth Engine</a>',\n",
    "    overlay=True,\n",
    "    name='satellite',\n",
    "  ).add_to(map)\n",
    "folium.TileLayer(\n",
    "    tiles=mapidCon['tile_fetcher'].url_format,\n",
    "    attr='Map Data &copy; <a href=\"https://earthengine.google.com/\">Google Earth Engine</a>',\n",
    "    overlay=True,\n",
    "    name=f'SPI-{scale}',\n",
    "  ).add_to(map)\n",
    "\n",
    "map.add_child(folium.LayerControl())\n",
    "map"
   ]
  },
  {
   "cell_type": "markdown",
   "metadata": {},
   "source": [
    "### Fonctions permettant d'appliquer la normalisation à l'ensemble de la collection"
   ]
  },
  {
   "cell_type": "code",
   "execution_count": null,
   "metadata": {},
   "outputs": [],
   "source": [
    "def condition(collection, month, year, scale):\n",
    "    condition = ee.Algorithms.If(\n",
    "        collection.filterDate(ee.Date.fromYMD(year, month, 1).advance(ee.Number(scale).multiply(-1), 'month'), ee.Date.fromYMD(year, month, 1)).size().eq(0),\n",
    "        ee.Image().set({'drop':1}),\n",
    "        ee.Image(standardised_index_function(collection, month, year, scale)).set({'drop':0}))\n",
    "    return ee.Image(condition)\n",
    "\n",
    "\n",
    "def monthly_calcul(collection, year, scale):\n",
    "    months = ee.List.sequence(1, 12)\n",
    "    def inner(month):\n",
    "        conditional = condition(collection, month, year, scale)\n",
    "        return conditional\n",
    "    return months.map(inner)\n",
    "\n",
    "\n",
    "def out_wrap(collection, scale):\n",
    "    def inner(year):\n",
    "        return monthly_calcul(collection, year, scale)\n",
    "    return inner\n"
   ]
  },
  {
   "cell_type": "markdown",
   "metadata": {},
   "source": [
    "### Génération d'une collection standardisée"
   ]
  },
  {
   "cell_type": "code",
   "execution_count": null,
   "metadata": {},
   "outputs": [],
   "source": [
    "standardised_index_collection = years.map(out_wrap(collection, scale))\n",
    "standardised_index_collection = standardised_index_collection.flatten()\n",
    "standardised_index_collection = ee.ImageCollection.fromImages(standardised_index_collection.filter(ee.Filter.eq('drop', 0))).sort('system:time_start')"
   ]
  },
  {
   "cell_type": "code",
   "execution_count": null,
   "metadata": {},
   "outputs": [],
   "source": [
    "SPI_date_2 = standardised_index_collection.filterDate('2012-11-01', '2012-12-01').first()\n",
    "\n",
    "date_1 = SPI_date.date().format('YYYY-MM-dd').getInfo()\n",
    "date_2 = SPI_date_2.date().format('YYYY-MM-dd').getInfo()\n",
    "\n",
    "mapidCon_2 = ee.Image(SPI_date_2).getMapId({'min': -3, 'max': 3, 'palette': 'FF0000, FFFFFF, 0000FF', 'opacity':0.4})\n",
    "centroid = geo.coordinates().getInfo()[::-1]\n",
    "map = folium.Map(location=centroid, zoom_start=2)\n",
    "folium.TileLayer(\n",
    "    tiles = 'https://server.arcgisonline.com/ArcGIS/rest/services/World_Imagery/MapServer/tile/{z}/{y}/{x}',\n",
    "    attr='Map Data &copy; <a href=\"https://earthengine.google.com/\">Google Earth Engine</a>',\n",
    "    overlay=True,\n",
    "    name='satellite',\n",
    "  ).add_to(map)\n",
    "folium.TileLayer(\n",
    "    tiles=mapidCon['tile_fetcher'].url_format,\n",
    "    attr='Map Data &copy; <a href=\"https://earthengine.google.com/\">Google Earth Engine</a>',\n",
    "    overlay=True,\n",
    "    name=f'SPI-{scale} {date_1}',\n",
    "  ).add_to(map)\n",
    "folium.TileLayer(\n",
    "    tiles=mapidCon_2['tile_fetcher'].url_format,\n",
    "    attr='Map Data &copy; <a href=\"https://earthengine.google.com/\">Google Earth Engine</a>',\n",
    "    overlay=True,\n",
    "    name=f'SPI-{scale} {date_2}',\n",
    "  ).add_to(map)\n",
    "\n",
    "map.add_child(folium.LayerControl())\n",
    "map"
   ]
  },
  {
   "cell_type": "markdown",
   "metadata": {},
   "source": [
    "### Extraction sur un lieu spécifique"
   ]
  },
  {
   "cell_type": "code",
   "execution_count": null,
   "metadata": {},
   "outputs": [],
   "source": [
    "def sample_location(geometry):\n",
    "    def inner(img):\n",
    "        index = img.reduceRegion('first', geometry, 10000).values().get(0)\n",
    "        return ee.Feature(None, {'ix':index})\n",
    "    return inner\n",
    "\n",
    "\n",
    "geo = ee.Geometry.Point([165.4038, -21.5779])\n",
    "series = standardised_index_collection.map(sample_location(geo))\n",
    "series = series.getInfo()\n",
    "ixs = [n['properties']['ix'] for n in series['features']]\n",
    "time = [pd.to_datetime(n['id'], format='%Y_%m_%d') for n in series['features']]\n",
    "df = pd.DataFrame(data={'ix':ixs, 'date':time})\n",
    "d = np.zeros(len(ixs))\n",
    "\n",
    "fig, axs = plt.subplots()\n",
    "axs.fill_between(time, d, ixs, where=df['ix']>=d, interpolate=True, color='blue', alpha=0.3, label='SPI')\n",
    "axs.fill_between(time, d, ixs, where=df['ix']<=d, interpolate=True, color='red', alpha=0.3)\n",
    "axs.set_ylabel('Standardised Precipitation Index')\n",
    "axs.set_xlim(pd.to_datetime('2000-06-01'), pd.to_datetime('2021-09-01'))\n",
    "fig.show()"
   ]
  },
  {
   "cell_type": "markdown",
   "metadata": {},
   "source": [
    "### Prépare export de la collection SPI"
   ]
  },
  {
   "cell_type": "code",
   "execution_count": null,
   "metadata": {},
   "outputs": [],
   "source": [
    "# --- Prepare main folder name ---\n",
    "TERRITORY_str = TERRITORY.replace('\"', '').replace(' ', '_').replace('(', '').replace(')', '')\n",
    "date_start_str = PERIOD_START.replace('-', '')\n",
    "date_end = pd.to_datetime(PERIOD_END, format='%Y-%m-%d') + pd.DateOffset(days=-1)\n",
    "date_end_str = date_end.strftime('%Y%m%d')\n",
    "\n",
    "# --- Generate directory ---\n",
    "if (CLEAN_RUNFOLDER is None) or (CLEAN_RUNFOLDER==''): CLEAN_RUNFOLDER = 0\n",
    "else: CLEAN_RUNFOLDER = int(CLEAN_RUNFOLDER)\n",
    "\n",
    "outdir = os.path.join(WRK_DIR, f'RUN_METEO_DROUGHT_{TERRITORY_str}_{date_start_str}_{date_end_str}')\n",
    "os.umask(0) # used to reset the directories permission\n",
    "if not os.path.exists(outdir):\n",
    "    os.makedirs(outdir)\n",
    "    os.chmod(outdir, 0o777)\n",
    "elif CLEAN_RUNFOLDER==1:\n",
    "    shutil.rmtree(outdir)\n",
    "    os.makedirs(outdir)\n",
    "    os.chmod(outdir, 0o777)\n",
    "\n",
    "# --- Generate sub-directories ---\n",
    "outdir_spi = os.path.normpath(outdir + os.sep + 'SPI')\n",
    "outdir_spimonth = os.path.normpath(outdir_spi + os.sep + 'MONTH/')\n",
    "outdir_spistats = os.path.normpath(outdir_spi + os.sep + 'STATS/')\n",
    "if not os.path.exists(outdir_spi): os.makedirs(outdir_spi)\n",
    "if not os.path.exists(outdir_spimonth): os.makedirs(outdir_spimonth)\n",
    "if not os.path.exists(outdir_spistats): os.makedirs(outdir_spistats)\n",
    "\n",
    "# --- Concenate dir paths ---\n",
    "OUTDIR_PATHS = (outdir_spi, outdir_spimonth, outdir_spistats)\n"
   ]
  },
  {
   "cell_type": "code",
   "execution_count": null,
   "metadata": {},
   "outputs": [],
   "source": [
    "# --- Extract VHI bounding box ---\n",
    "histo_files = glob.glob(os.path.join(DATA_HISTO, '0_INDICES', 'MODIS', 'DECADE', '*.tif'))\n",
    "with rasterio.open(histo_files[0]) as d_ds :\n",
    "    (lon_min_modis, lat_min_modis,\n",
    "     lon_max_modis, lat_max_modis) = d_ds.bounds"
   ]
  },
  {
   "cell_type": "markdown",
   "metadata": {},
   "source": [
    "### Export de la collection"
   ]
  },
  {
   "cell_type": "code",
   "execution_count": null,
   "metadata": {},
   "outputs": [],
   "source": [
    "CRS_OUT = 'EPSG:4326'\n",
    "SCALE_OUT = ee.ImageCollection(\"UCSB-CHG/CHIRPS/DAILY\").first().select('precipitation').projection().nominalScale()\n",
    "GRID_OUT = ee.Geometry.BBox(float(lon_min_modis), float(lat_min_modis),\n",
    "                            float(lon_max_modis), float(lat_max_modis))\n",
    "\n",
    "SPI_export = standardised_index_collection.filterDate(PERIOD_START, PERIOD_END)\n",
    "N_spi = SPI_export.size().getInfo()\n",
    "SPI_export_list = SPI_export.toList(N_spi)"
   ]
  },
  {
   "cell_type": "code",
   "execution_count": null,
   "metadata": {},
   "outputs": [],
   "source": [
    "for i in tqdm(range(N_spi), desc='SPI EXPORTED'):\n",
    "  SPI_i = ee.Image(SPI_export_list.get(i))\n",
    "  date_i = SPI_i.date().format('YYYYMM').getInfo()\n",
    "  SPI_filename = f'SPI{scale}_{date_i}M'\n",
    "  geegen.exportImage(DRIVE_FOLDER,\n",
    "                     SPI_i,\n",
    "                     SPI_filename,\n",
    "                     export_folder=OUTDIR_PATHS[1],\n",
    "                     path2key=path2key,\n",
    "                     data_crs=CRS_OUT,\n",
    "                     data_scale=SCALE_OUT,\n",
    "                     data_region=GRID_OUT)\n",
    "  del SPI_i,date_i,SPI_filename"
   ]
  }
 ],
 "metadata": {
  "kernelspec": {
   "display_name": "dmpipeline-env",
   "language": "python",
   "name": "python3"
  },
  "language_info": {
   "codemirror_mode": {
    "name": "ipython",
    "version": 3
   },
   "file_extension": ".py",
   "mimetype": "text/x-python",
   "name": "python",
   "nbconvert_exporter": "python",
   "pygments_lexer": "ipython3",
   "version": "3.11.2"
  },
  "orig_nbformat": 4
 },
 "nbformat": 4,
 "nbformat_minor": 2
}
