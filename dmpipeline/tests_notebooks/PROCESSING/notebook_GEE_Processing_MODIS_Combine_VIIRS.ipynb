{
 "cells": [
  {
   "cell_type": "markdown",
   "metadata": {},
   "source": [
    "# Notebook pour le calcul des indices NDWI, LST (MODIS pour fusion VIIRS)\n",
    "Prétraitement des produits MODIS LST (MYD21A1D) pour la fusion avec produit VIIRS LST (VNP21A1D)"
   ]
  },
  {
   "cell_type": "markdown",
   "metadata": {},
   "source": [
    "### Initialisation contexte test appli"
   ]
  },
  {
   "cell_type": "code",
   "execution_count": 1,
   "metadata": {},
   "outputs": [],
   "source": [
    "import os\n",
    "\n",
    "# Manually filling Config dictionnary (can be filled by reading Config_process.env) :\n",
    "\n",
    "CONFIG = {}\n",
    "\n",
    "CONFIG['WRK_DIR'] = os.path.normpath('D:/MATHIS/0_Projet_Secheresse/1_Scripts/toolbox/eo4dm-oeil/EO4DM')\n",
    "os.chdir(CONFIG['WRK_DIR'])\n",
    "CONFIG['WRK_DIR'] = os.path.normpath('D:/MATHIS/0_Projet_Secheresse/1_Scripts/toolbox/eo4dm-oeil')\n",
    "CONFIG['DATA_HISTO'] = os.path.join(CONFIG['WRK_DIR'],'DATA_HISTO')\n",
    "CONFIG['ANNEX_DIR'] = os.path.join(CONFIG['WRK_DIR'],'ANNEX')\n",
    "\n",
    "CONFIG['TERRITORY'] = \"New Caledonia (Fr)\"\n",
    "CONFIG['PERIOD_START'] = '2023-11-11'\n",
    "CONFIG['PERIOD_END'] = '2023-11-21'\n",
    "CONFIG['DRIVE_FOLDER'] = 'EO4DM_EXPORT_NOTEBOOK'\n",
    "CONFIG['LANDMASK_ROI'] = 0                                # if 1, preproc products are masked for pixels outside landmask roi (input shapefile to upload on gee asset)\n",
    "CONFIG['ASSET_EXPORT_L'] = 0                              # if 1, landsat preproc products are exported to gee\n",
    "CONFIG['ASSET_EXPORT_S2'] = 0                             # if 1, s2 preproc products are exported to gee\n",
    "CONFIG['ASSET_EXPORT_MOD'] = 0                            # if 1, modis preproc products are exported to gee\n",
    "CONFIG['CLEAN_GEEFOLDER'] = 0                             # if 1, gee already existing folder is cleaned (deleted, and re-created)\n",
    "CONFIG['CLEAN_GEECOL'] = 0                                # if 1, gee already exported products are cleaned (deleted, and re-created)\n",
    "CONFIG['CLEAN_RUNFOLDER'] = 0                             # if 1, drought already existing folder is cleaned (deleted, and re-created)\n",
    "CONFIG['MODE'] = 'INDICES'                                # 'AUTO', 'MANUAL', 'INDICES' or 'DROUGHT' mode of drought processing chain\n",
    "\n",
    "CONFIG['lon_min_modis'] = 163.46601498126984\n",
    "CONFIG['lon_max_modis'] = 168.29999935626984\n",
    "CONFIG['lat_min_modis'] = -22.85859364271164\n",
    "CONFIG['lat_max_modis'] = -19.44843739271164\n"
   ]
  },
  {
   "cell_type": "markdown",
   "metadata": {},
   "source": [
    "### Création arborescence dossiers DATA et controle ANNEX_DIR"
   ]
  },
  {
   "cell_type": "code",
   "execution_count": 2,
   "metadata": {},
   "outputs": [],
   "source": [
    "import dmpipeline.DROUGHT_Processing.DROUGHT_global_functions as dglob\n",
    "OUTDIR_PATHS = dglob.prepare_RUNFolders(CONFIG)"
   ]
  },
  {
   "attachments": {},
   "cell_type": "markdown",
   "metadata": {},
   "source": [
    "### Test Extrait collections (mois m et décade d)"
   ]
  },
  {
   "cell_type": "code",
   "execution_count": 3,
   "metadata": {},
   "outputs": [
    {
     "name": "stdout",
     "output_type": "stream",
     "text": [
      "NbLST_D = 10\n",
      "NbREFLECT_D = 10\n"
     ]
    }
   ],
   "source": [
    "import ee\n",
    "import dmpipeline.GEE_Processing.gee_accounts as geeauth\n",
    "import dmpipeline.GEE_Processing.GEE_generic_functions as geegen\n",
    "\n",
    "d = 1 # Select decade (0, 1, 2)\n",
    "\n",
    "PERIOD_START = CONFIG['PERIOD_START']\n",
    "PERIOD_END = CONFIG['PERIOD_END']\n",
    "TERRITORY = CONFIG['TERRITORY']\n",
    "TERRITORY_str = TERRITORY.replace('\"', '').replace(' ', '_').replace('(', '').replace(')', '')\n",
    "\n",
    "# --- GEE Authentification/Initialization ---\n",
    "path2key = os.path.dirname(geeauth.__file__)\n",
    "project_id = geegen.googleAuthentification(path2key)\n",
    "gee_workdir = 'projects'+'/'+project_id+'/'+'assets'\n",
    "\n",
    "# --- Load ESA Land Cover collection and extract permanent LAND MASK ---\n",
    "esa_landc_2020 = ee.ImageCollection(\"ESA/WorldCover/v100\").first()\n",
    "esa_landc_2021 = ee.ImageCollection(\"ESA/WorldCover/v200\").first()\n",
    "landmask_2020 = esa_landc_2020.neq(80)\n",
    "landmask_2021 = esa_landc_2021.neq(80)\n",
    "landmask = landmask_2020.And(landmask_2021)\n",
    "\n",
    "# --- Load and Filter VIIRS Collections to the specific AREA (territory) and PERIOD (if needed) ---\n",
    "roi = ee.FeatureCollection(\"USDOS/LSIB/2017\").filter(ee.Filter.stringContains('COUNTRY_NA', TERRITORY))\n",
    "LSTaqua_dataset = ee.ImageCollection('MODIS/061/MYD21A1D').filterBounds(roi)\n",
    "REFLECTterra_dataset = ee.ImageCollection('MODIS/061/MOD09GA').filterBounds(roi) # used for extracting scale_out\n",
    "\n",
    "if PERIOD_START!=[''] and PERIOD_END!=['']:\n",
    "  LSTaqua_dataset = LSTaqua_dataset.filterDate(PERIOD_START, PERIOD_END)\n",
    "  REFLECTterra_dataset = REFLECTterra_dataset.filterDate(PERIOD_START, PERIOD_END)\n",
    "  ALL_dataset = LSTaqua_dataset.merge(REFLECTterra_dataset)\n",
    "else:\n",
    "  ALL_dataset = LSTaqua_dataset.merge(REFLECTterra_dataset)\n",
    "  PERIOD_START = geegen.googleErrorsControl(ALL_dataset.limit(1, 'system:time_start', True).first().date().format('YYYY-MM-dd'), path2key)\n",
    "  PERIOD_END = geegen.googleErrorsControl(ALL_dataset.limit(1, 'system:time_start', False).first().date().advance(1, 'day').format('YYYY-MM-dd'), path2key)\n",
    "\n",
    "CRS_OUT = 'EPSG:4326'\n",
    "GRID_OUT = ee.Geometry.Polygon([[[float(CONFIG['lon_min_modis']), float(CONFIG['lat_max_modis'])],\n",
    "                                  [float(CONFIG['lon_min_modis']), float(CONFIG['lat_min_modis'])],\n",
    "                                  [float(CONFIG['lon_max_modis']), float(CONFIG['lat_min_modis'])],\n",
    "                                  [float(CONFIG['lon_max_modis']), float(CONFIG['lat_max_modis'])]]],None, False)\n",
    "SCALE_OUT = REFLECTterra_dataset.first().select('sur_refl_b02').projection().nominalScale()\n",
    "\n",
    "date_start = ee.Date(PERIOD_START)\n",
    "y = ee.Date(date_start).get('year').getInfo()\n",
    "m = ee.Date(date_start).get('month').getInfo()\n",
    "month2find = '{}{:02d}'.format(y,m)\n",
    "\n",
    "start_D = [1, 11, 21]\n",
    "end_D = [10, 20, 31]\n",
    "indicesD_preproc = []\n",
    "date_start_str = '{}{:02d}{:02d}'.format(y,m,start_D[d])\n",
    "date_end_str = '{}{:02d}{:02d}'.format(y,m,end_D[d])\n",
    "\n",
    "LSTaqua_D = (LSTaqua_dataset\n",
    "            .filter(ee.Filter.calendarRange(y,y,'year'))\n",
    "            .filter(ee.Filter.calendarRange(m,m,'month'))\n",
    "            .filter(ee.Filter.calendarRange(start_D[d],end_D[d],'DAY_OF_MONTH')))\n",
    "REFLECTterra_D = (REFLECTterra_dataset\n",
    "            .filter(ee.Filter.calendarRange(y,y,'year'))\n",
    "            .filter(ee.Filter.calendarRange(m,m,'month'))\n",
    "            .filter(ee.Filter.calendarRange(start_D[d],end_D[d],'DAY_OF_MONTH')))\n",
    "\n",
    "NbLST_D = geegen.googleErrorsControl(LSTaqua_D.size(), path2key)\n",
    "NbREFLECT_D = geegen.googleErrorsControl(REFLECTterra_D.size(), path2key)\n",
    "\n",
    "print(f'NbLST_D = {NbLST_D}')\n",
    "print(f'NbREFLECT_D = {NbREFLECT_D}')\n"
   ]
  },
  {
   "cell_type": "markdown",
   "metadata": {},
   "source": [
    "### Test PRETRAITEMENT / COMPOSITION DECADE"
   ]
  },
  {
   "cell_type": "code",
   "execution_count": 4,
   "metadata": {},
   "outputs": [
    {
     "name": "stdout",
     "output_type": "stream",
     "text": [
      "date_start_D = 2023-11-11\n",
      "date_end_D = 2023-11-20\n"
     ]
    },
    {
     "name": "stderr",
     "output_type": "stream",
     "text": [
      "06/02/2024 12:08:18 - INFO - MODIS 2023-11-11 : preprocessing product\n",
      "06/02/2024 12:08:33 - INFO - MODIS 2023-11-12 : preprocessing product\n",
      "06/02/2024 12:08:46 - INFO - MODIS 2023-11-13 : preprocessing product\n",
      "06/02/2024 12:08:59 - INFO - MODIS 2023-11-14 : preprocessing product\n",
      "06/02/2024 12:09:14 - INFO - MODIS 2023-11-15 : preprocessing product\n",
      "06/02/2024 12:09:25 - INFO - MODIS 2023-11-16 : preprocessing product\n",
      "06/02/2024 12:09:38 - INFO - MODIS 2023-11-17 : preprocessing product\n",
      "06/02/2024 12:09:51 - INFO - MODIS 2023-11-18 : preprocessing product\n",
      "06/02/2024 12:10:05 - INFO - MODIS 2023-11-19 : preprocessing product\n",
      "06/02/2024 12:10:19 - INFO - MODIS 2023-11-20 : preprocessing product\n"
     ]
    }
   ],
   "source": [
    "import ee\n",
    "import dmpipeline.GEE_Processing.GEE_generic_functions as geegen\n",
    "import dmpipeline.GEE_Processing.GEE_preprocessing_functions as geeprep\n",
    "import dmpipeline.GEE_Processing.GEE_compositing_functions as geecomp\n",
    "\n",
    "new_collection=[]\n",
    "QA_dict = []\n",
    "ASSET_EXPORT_MOD = int(CONFIG['ASSET_EXPORT_MOD'])\n",
    "\n",
    "#--- LOOP OVER DAYS (in decade D) ---\n",
    "ALL_dataset_D = LSTaqua_D.merge(REFLECTterra_D)\n",
    "date_start_D = ALL_dataset_D.limit(1, 'system:time_start', True).first().date()\n",
    "date_end_D = ALL_dataset_D.limit(1, 'system:time_start', False).first().date()\n",
    "days_D = geegen.googleErrorsControl(ee.List.sequence(date_start_D.get('day'), date_end_D.get('day')), path2key)\n",
    "\n",
    "date_start_Dtmp = date_start_D.format('YYYY-MM-dd').getInfo()\n",
    "date_end_Dtmp = date_end_D.format('YYYY-MM-dd').getInfo()\n",
    "print(f'date_start_D = {date_start_Dtmp}')\n",
    "print(f'date_end_D = {date_end_Dtmp}')\n",
    "\n",
    "for day in days_D:\n",
    "    lst = LSTaqua_D.filter(ee.Filter.calendarRange(day,day,'DAY_OF_MONTH')).first()\n",
    "    reflect = REFLECTterra_D.filter(ee.Filter.calendarRange(day,day,'DAY_OF_MONTH')).first()\n",
    "\n",
    "    indices_preproc, QA_dict  = geeprep.preprocessingMODISv21A1D(lst, reflect, landmask, new_collection, QA_dict, CRS_OUT, GRID_OUT, SCALE_OUT, path2key, ASSET_EXPORT_MOD)\n",
    "    if indices_preproc=='not considered': pass\n",
    "    else:\n",
    "        indicesD_preproc += [indices_preproc]\n",
    "    del lst, reflect\n",
    "\n",
    "# --- COMPOSITING ---\n",
    "indicesD_preproc = ee.ImageCollection(indicesD_preproc)\n",
    "Nbgoodimages_D = geegen.googleErrorsControl(indicesD_preproc.size(), path2key)\n",
    "if Nbgoodimages_D==0:\n",
    "    pass\n",
    "elif Nbgoodimages_D==1:\n",
    "    indicesD_comp = {}\n",
    "    indicesD_comp['LST'] =  indicesD_preproc.first().select('LST')\n",
    "    indicesD_comp['NDWI'] =  indicesD_preproc.first().select('NDWI')\n",
    "    nanscores_D = geegen.computeNanScores(indicesD_preproc.first(), path2key, landmask, scale=SCALE_OUT)\n",
    "    comp_type_D = f'COMPD{d+1}'\n",
    "elif Nbgoodimages_D > 1:\n",
    "    indicesD_comp = geecomp.extractComposite(indicesD_preproc, path2key, GRID_OUT)\n",
    "    nanscores_D = geegen.computeNanScores(indicesD_comp['LST'].addBands(indicesD_comp['NDWI'], overwrite=True).select(['LST', 'NDWI']), path2key, landmask, scale=SCALE_OUT)\n",
    "    comp_type_D = f'COMPD{d+1}'\n",
    "del indicesD_preproc\n"
   ]
  },
  {
   "cell_type": "markdown",
   "metadata": {},
   "source": [
    "### Export des INDICES COMPOSITES"
   ]
  },
  {
   "cell_type": "code",
   "execution_count": 5,
   "metadata": {},
   "outputs": [
    {
     "name": "stderr",
     "output_type": "stream",
     "text": [
      "06/02/2024 12:10:41 - INFO - \n",
      "Exporting image to drive : MODISv21A1D_AQUA_FILT_LST_202311_COMPD2\n"
     ]
    },
    {
     "name": "stdout",
     "output_type": "stream",
     "text": []
    },
    {
     "name": "stderr",
     "output_type": "stream",
     "text": [
      "06/02/2024 12:11:24 - INFO - file_cache is only supported with oauth2client<4.0.0\n",
      "06/02/2024 12:11:24 - INFO - Attempting refresh to obtain initial access_token\n",
      "06/02/2024 12:11:25 - INFO - Refreshing access_token\n",
      "06/02/2024 12:11:26 - INFO - \n",
      "Local downloading : MODISv21A1D_AQUA_FILT_LST_202311_COMPD2.tif\n",
      "06/02/2024 12:11:30 - INFO - \n",
      "Exporting table to drive : GEEPREPROC_MODISv21A1D_FILT_New_Caledonia_Fr_20231111_20231120\n"
     ]
    },
    {
     "name": "stdout",
     "output_type": "stream",
     "text": []
    },
    {
     "name": "stderr",
     "output_type": "stream",
     "text": [
      "06/02/2024 12:11:37 - INFO - file_cache is only supported with oauth2client<4.0.0\n",
      "06/02/2024 12:11:37 - INFO - Attempting refresh to obtain initial access_token\n",
      "06/02/2024 12:11:37 - INFO - Refreshing access_token\n",
      "06/02/2024 12:11:39 - INFO - \n",
      "Local downloading : GEEPREPROC_MODISv21A1D_FILT_New_Caledonia_Fr_20231111_20231120.csv\n",
      "06/02/2024 12:11:41 - INFO - \n",
      "Exporting table to drive : COUNTCompositeDecade_MODISv21A1D_New_Caledonia_Fr_20231111_20231120\n"
     ]
    },
    {
     "name": "stdout",
     "output_type": "stream",
     "text": []
    },
    {
     "name": "stderr",
     "output_type": "stream",
     "text": [
      "06/02/2024 12:11:49 - INFO - file_cache is only supported with oauth2client<4.0.0\n",
      "06/02/2024 12:11:49 - INFO - Attempting refresh to obtain initial access_token\n",
      "06/02/2024 12:11:49 - INFO - Refreshing access_token\n",
      "06/02/2024 12:11:50 - INFO - \n",
      "Local downloading : COUNTCompositeDecade_MODISv21A1D_New_Caledonia_Fr_20231111_20231120.csv\n"
     ]
    }
   ],
   "source": [
    "import time\n",
    "\n",
    "DRIVE_FOLDER = CONFIG['DRIVE_FOLDER']\n",
    "\n",
    "# --- EXPORTING RASTERS ---\n",
    "comp_lst_filename = f'MODISv21A1D_AQUA_FILT_LST_{month2find}_{comp_type_D}'\n",
    "\n",
    "LST_comp = indicesD_comp['LST']\n",
    "\n",
    "start_time = time.time()\n",
    "geegen.exportImage(DRIVE_FOLDER, LST_comp, comp_lst_filename, export_folder=OUTDIR_PATHS[1], path2key=path2key, data_crs=CRS_OUT, data_scale=SCALE_OUT, data_region=GRID_OUT)\n",
    "elapsed_time = round(time.time() - start_time)\n",
    "\n",
    "COMP_dict = [ee.Feature(None, {'DATE': month2find,\n",
    "                               'COMPOSITE': comp_type_D,\n",
    "                               'NB LST': NbLST_D,\n",
    "                               'NB REFLECT': NbREFLECT_D,\n",
    "                               'COMPOSITE NAN SCORE LST': nanscores_D['LST'],\n",
    "                               'COMPOSITE NAN SCORE NDWI': nanscores_D['NDWI'],\n",
    "                               'COMPOSITE TIME (sec)': elapsed_time})]\n",
    "\n",
    "# --- SAVE TABLES (DATA FRAMES) INTO CSV FILES (LOCAL MACHINE) ---\n",
    "QAtable_filename = f'GEEPREPROC_MODISv21A1D_FILT_{TERRITORY_str}_{date_start_str}_{date_end_str}'\n",
    "QAtable_columns = ['DATE','NAN SCORE LST','NAN SCORE NDWI','PREPROC TIME (sec)']\n",
    "COMPtable_filename = f'COUNTCompositeDecade_MODISv21A1D_{TERRITORY_str}_{date_start_str}_{date_end_str}'\n",
    "COMPtable_columns = ['DATE','COMPOSITE','AquaTerra LST','Terra REFLECT','COMPOSITE NAN SCORE LST','COMPOSITE NAN SCORE NDWI','COMPOSITE TIME (sec)']\n",
    "\n",
    "geegen.exportDataFrame(DRIVE_FOLDER, QA_dict, QAtable_filename, QAtable_columns, OUTDIR_PATHS[3], path2key)\n",
    "geegen.exportDataFrame(DRIVE_FOLDER, COMP_dict, COMPtable_filename, COMPtable_columns, OUTDIR_PATHS[3], path2key)\n"
   ]
  }
 ],
 "metadata": {
  "kernelspec": {
   "display_name": "dmpipeline-env",
   "language": "python",
   "name": "python3"
  },
  "language_info": {
   "codemirror_mode": {
    "name": "ipython",
    "version": 3
   },
   "file_extension": ".py",
   "mimetype": "text/x-python",
   "name": "python",
   "nbconvert_exporter": "python",
   "pygments_lexer": "ipython3",
   "version": "3.11.2"
  },
  "orig_nbformat": 4
 },
 "nbformat": 4,
 "nbformat_minor": 2
}
