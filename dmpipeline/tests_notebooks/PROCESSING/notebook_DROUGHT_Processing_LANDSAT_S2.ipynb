{
 "cells": [
  {
   "cell_type": "markdown",
   "metadata": {},
   "source": [
    "# Notebook pour le calcul de l'indicateur local VAI (LANDSAT-S2)"
   ]
  },
  {
   "attachments": {},
   "cell_type": "markdown",
   "metadata": {},
   "source": [
    "### Initialisation contexte test appli"
   ]
  },
  {
   "cell_type": "code",
   "execution_count": null,
   "metadata": {},
   "outputs": [],
   "source": [
    "import os\n",
    "\n",
    "# Manually filling Config dictionnary (can be filled by reading Config_process.env) :\n",
    "\n",
    "CONFIG = {}\n",
    "\n",
    "# --- DIRECTORIES ---\n",
    "CONFIG['WRK_DIR'] = os.path.normpath('D:/MATHIS/0_Projet_Secheresse/1_Scripts/toolbox/eo4dm-oeil/EO4DM')\n",
    "os.chdir(CONFIG['WRK_DIR'])\n",
    "CONFIG['WRK_DIR'] = os.path.join(CONFIG['WRK_DIR'],'..')\n",
    "CONFIG['DATA_HISTO'] = os.path.join(CONFIG['WRK_DIR'], 'DATA_HISTO')    # Dossier data histo \"test\" (pc local)\n",
    "# CONFIG['DATA_HISTO'] = os.path.normpath('Y:/EO4DM/DATA_HISTO')  # Dossier data histo \"opérationnel\" (serveur)\n",
    "CONFIG['DATA_HISTO'] = os.path.join(CONFIG['WRK_DIR'], 'ANNEX')\n",
    "\n",
    "# --- GENERAL ENV VARIABLES ---\n",
    "CONFIG['TERRITORY'] = 'New Caledonia (Fr)'\n",
    "CONFIG['PERIOD_START'] = '2023-12-01'\n",
    "CONFIG['PERIOD_END'] = '2023-12-15'\n",
    "CONFIG['DRIVE_FOLDER'] = 'EO4DM_EXPORT_NOTEBOOK'\n",
    "CONFIG['ASSET_EXPORT'] = 0                                # if 1, preproc products are exported to gee\n",
    "CONFIG['CLEAN_GEEFOLDER'] = 0                             # if 1, gee already existing folder is cleaned (deleted, and re-created)\n",
    "CONFIG['CLEAN_GEECOL'] = 0                                # if 1, gee already exported products are cleaned (deleted, and re-created)\n",
    "CONFIG['CLEAN_RUNFOLDER'] = 0                         # if 1, drought already existing folder is cleaned (deleted, and re-created)\n",
    "CONFIG['MODE']='DROUGHT'                                  # 'AUTO', 'MANUAL', 'INDICES' or 'DROUGHT' mode of drought processing chain\n",
    "\n",
    "# --- LANDSAT/S2 SPECIFIC VARIABLES ---\n",
    "CONFIG['TILES_L'] = ['82075','81075','83074','82074','81074','80075','81076'] # fill with '' (if empty)\n",
    "# CONFIG['TILES_S2'] = '58KCC,58KCD,58KDB,58KDC,58KEA,58KEB,58KEC,58KFA,58KFB,58KFC,58KGA,58KGB,58KGC,58KGV,58KHB'\n",
    "# CONFIG['TILES_S2'] = ['58KCC','58KCD','58KDB','58KDC','58KEA','58KEB','58KEC','58KFA','58KFB','58KFC','58KGA','58KGB','58KGC','58KGV','58KHB']\n"
   ]
  },
  {
   "cell_type": "code",
   "execution_count": null,
   "metadata": {},
   "outputs": [],
   "source": [
    "import dmpipeline.DROUGHT_Processing.DROUGHT_local_functions as dloc\n",
    "OUTDIR_PATHS = dloc.prepare_RUNFolders(CONFIG)"
   ]
  },
  {
   "attachments": {},
   "cell_type": "markdown",
   "metadata": {},
   "source": [
    "### Calcul VAI (Vegetation Anomaly Index) "
   ]
  },
  {
   "cell_type": "code",
   "execution_count": null,
   "metadata": {},
   "outputs": [],
   "source": [
    "dloc.process_LocalDrought_VAI(CONFIG, OUTDIR_PATHS)"
   ]
  }
 ],
 "metadata": {
  "kernelspec": {
   "display_name": "dmpipeline-env",
   "language": "python",
   "name": "python3"
  },
  "language_info": {
   "codemirror_mode": {
    "name": "ipython",
    "version": 3
   },
   "file_extension": ".py",
   "mimetype": "text/x-python",
   "name": "python",
   "nbconvert_exporter": "python",
   "pygments_lexer": "ipython3",
   "version": "3.11.2"
  },
  "orig_nbformat": 4
 },
 "nbformat": 4,
 "nbformat_minor": 2
}
