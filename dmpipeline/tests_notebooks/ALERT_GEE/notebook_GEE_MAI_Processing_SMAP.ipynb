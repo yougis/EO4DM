{
  "cells": [
    {
      "cell_type": "markdown",
      "metadata": {
        "colab_type": "text",
        "id": "view-in-github"
      },
      "source": [
        "<a href=\"https://colab.research.google.com/github/IFuentesSR/RSE_drought/blob/main/AVHRR_MODIS_NDVI.ipynb\" target=\"_parent\"><img src=\"https://colab.research.google.com/assets/colab-badge.svg\" alt=\"Open In Colab\"/></a>"
      ]
    },
    {
      "cell_type": "markdown",
      "metadata": {
        "id": "oQ5x63F5PoA3"
      },
      "source": [
        "# Notebook pour le calcul des indices et anomalies d'humidité du sol MAI GEE (SMAP)"
      ]
    },
    {
      "cell_type": "markdown",
      "metadata": {},
      "source": [
        "### Définition des variables d'environnement"
      ]
    },
    {
      "cell_type": "code",
      "execution_count": null,
      "metadata": {
        "colab": {
          "base_uri": "https://localhost:8080/"
        },
        "id": "BDM1psu2hNuY",
        "outputId": "3e9cd02a-69d6-44fa-92a1-fe044e7cec59"
      },
      "outputs": [],
      "source": [
        "import os\n",
        "\n",
        "WRK_DIR = os.path.normpath('D:/MATHIS/0_Projet_Secheresse/1_Scripts/toolbox/eo4dm-oeil/EO4DM')\n",
        "os.chdir(WRK_DIR)\n",
        "WRK_DIR = os.path.normpath('Y:/EO4DM')\n",
        "\n",
        "TERRITORY = 'New Caledonia (Fr)'\n",
        "DRIVE_FOLDER = 'EO4DM_EXPORT_NOTEBOOK'\n",
        "CLEAN_RUNFOLDER = 0\n",
        "\n",
        "TERRITORY_str = TERRITORY.replace(' ', '_').replace('(', '').replace(')', '')\n",
        "DATA_HISTO = os.path.join(WRK_DIR,'DATA_HISTO',TERRITORY_str)"
      ]
    },
    {
      "cell_type": "markdown",
      "metadata": {},
      "source": [
        "### Import des librairies"
      ]
    },
    {
      "cell_type": "code",
      "execution_count": null,
      "metadata": {
        "id": "tYwt4uVKj9XH"
      },
      "outputs": [],
      "source": [
        "import ee\n",
        "import glob\n",
        "import shutil\n",
        "import folium\n",
        "import rasterio\n",
        "import numpy as np\n",
        "import pandas as pd\n",
        "from tqdm import tqdm\n",
        "import matplotlib.pyplot as plt\n",
        "import dmpipeline.GEE_Processing.GEE_generic_functions as geegen\n",
        "import dmpipeline.GEE_Processing.gee_accounts as geeauth"
      ]
    },
    {
      "cell_type": "markdown",
      "metadata": {},
      "source": [
        "### Authentification GEE"
      ]
    },
    {
      "cell_type": "code",
      "execution_count": null,
      "metadata": {},
      "outputs": [],
      "source": [
        "path2key = os.path.dirname(geeauth.__file__)\n",
        "project_id = geegen.googleAuthentification(path2key)"
      ]
    },
    {
      "cell_type": "markdown",
      "metadata": {
        "id": "bBJGJUy--gJu"
      },
      "source": [
        "### Définition des fonctions"
      ]
    },
    {
      "cell_type": "code",
      "execution_count": null,
      "metadata": {
        "id": "9Alsd6CwPhdk"
      },
      "outputs": [],
      "source": [
        "def temporal_aggregation_SMAP(collection, image_ref, band):\n",
        "    def inner(year):\n",
        "        months = ee.List.sequence(1,12)\n",
        "        def month_iteration(m):\n",
        "            date = ee.Date.fromYMD(year, m, 1)\n",
        "            mean = collection.select(band).filterDate(date, date.advance(1, 'month')).mean()\n",
        "            mean = mean.reproject(image_ref.projection())\n",
        "            return mean.setMulti({'system:time_start': date.millis(), 'system:index':date.format('YYYY_MM_dd'), 'month':ee.Number(m)})\n",
        "        return months.map(month_iteration)\n",
        "    return inner\n",
        "\n",
        "\n",
        "def join(collection):\n",
        "    def wrap(img):\n",
        "        date = img.get('system:time_start')\n",
        "        img_retrieve = img.addBands(collection.filter(ee.Filter.eq('system:time_start', date)).first().rename('MOD'))\n",
        "        return img_retrieve.copyProperties(img, ['system:time_start', 'system:index', 'month'])\n",
        "    return wrap\n",
        "\n",
        "\n",
        "def sample_collection(geo):\n",
        "    def wrap(img):\n",
        "        date = ee.Date(img.get('system:time_start')).format('YYYY-MM-dd')\n",
        "        idx = img.reduceRegion('first', geo, 9000).values().get(0)\n",
        "        return ee.Feature(None, {'date':date, 'idx':idx})\n",
        "    return wrap\n"
      ]
    },
    {
      "cell_type": "markdown",
      "metadata": {
        "id": "SnI-HZDk-qKo"
      },
      "source": [
        "### Appel des collections"
      ]
    },
    {
      "cell_type": "code",
      "execution_count": null,
      "metadata": {
        "id": "LayftyVm-M99"
      },
      "outputs": [],
      "source": [
        "sm_param = 'soil_moisture_am'\n",
        "smap_collection = ee.ImageCollection(\"NASA/SMAP/SPL3SMP_E/005\")\n",
        "date_start = smap_collection.limit(1, 'system:time_start', True).first().date()\n",
        "date_end = smap_collection.limit(1, 'system:time_start', False).first().date()\n",
        "\n",
        "geo = ee.Geometry.Point([165.4038, -21.5779])\n",
        "months = ee.List.sequence(1,12)\n",
        "years = ee.List.sequence(date_start.get('year'), date_end.get('year'))"
      ]
    },
    {
      "cell_type": "markdown",
      "metadata": {
        "id": "F0Dnl9Xb-3ue"
      },
      "source": [
        "## Aggrégation mensuelle des données"
      ]
    },
    {
      "cell_type": "code",
      "execution_count": null,
      "metadata": {
        "id": "ey51WPxkhBs1"
      },
      "outputs": [],
      "source": [
        "smap_agg = years.map(temporal_aggregation_SMAP(smap_collection, smap_collection.first(), sm_param))\n",
        "smap_agg = ee.ImageCollection.fromImages(smap_agg.flatten())\n",
        "\n",
        "# print(smap_agg.limit(1, 'system:time_start', True).first().date().format('YYYY-MM-dd').getInfo())\n",
        "# print(smap_agg.limit(1, 'system:time_start', False).first().date().format('YYYY-MM-dd').getInfo())\n",
        "\n",
        "smap_agg = smap_agg.filterDate(date_start, date_end)\n",
        "\n",
        "date_start_smap_agg = smap_agg.limit(1, 'system:time_start', True).first().date().format('YYYY-MM-dd').getInfo()\n",
        "date_end_smap_agg = smap_agg.limit(1, 'system:time_start', False).first().date().format('YYYY-MM-dd').getInfo()\n",
        "print(f'date_start_smap_agg = {date_start_smap_agg}')\n",
        "print(f'date_end_smap_agg = {date_end_smap_agg}')\n"
      ]
    },
    {
      "cell_type": "markdown",
      "metadata": {
        "id": "-Q4HmwHv-8Dr"
      },
      "source": [
        "### Affichage pour une date spécifique"
      ]
    },
    {
      "cell_type": "code",
      "execution_count": null,
      "metadata": {},
      "outputs": [],
      "source": [
        "month = 4\n",
        "year = 2015\n",
        "\n",
        "smap_date = smap_agg.filterDate(ee.Date.fromYMD(year, month, 1),\n",
        "                                ee.Date.fromYMD(year, month+1, 1)).first()\n",
        "date_1 = smap_date.date().format('YYYY-MM-dd').getInfo()\n",
        "\n",
        "SMAP_ex = smap_date.getMapId({'min': 0, 'max': 1, 'palette': 'FF0000, FFFFFF, 0000FF', 'opacity':0.4})\n",
        "centroid = geo.coordinates().getInfo()[::-1]\n",
        "map = folium.Map(centroid, zoom_start=5)\n",
        "folium.TileLayer(\n",
        "    tiles=SMAP_ex['tile_fetcher'].url_format,\n",
        "    attr='Map Data &copy; <a href=\"https://earthengine.google.com/\">Google Earth Engine</a>',\n",
        "    overlay=True,\n",
        "    name=f'SMAP {date_1}',\n",
        "  ).add_to(map)\n",
        "map.add_child(folium.LayerControl())\n",
        "map"
      ]
    },
    {
      "cell_type": "markdown",
      "metadata": {
        "id": "2g1-s4ia_kHT"
      },
      "source": [
        "### Extraction sur un lieu spécifique"
      ]
    },
    {
      "cell_type": "code",
      "execution_count": null,
      "metadata": {
        "colab": {
          "base_uri": "https://localhost:8080/",
          "height": 282
        },
        "id": "iVFjarqN5EM4",
        "outputId": "46a0f101-0083-4b84-9cec-81e0ae6154a9"
      },
      "outputs": [],
      "source": [
        "samples = smap_agg.map(sample_collection(geo))\n",
        "samples = samples.getInfo()\n",
        "dates = [pd.to_datetime(n['properties']['date']) for n in samples['features']]\n",
        "sm = [[n['properties']['idx']] for n in samples['features']]\n",
        "plt.plot(dates, sm)"
      ]
    },
    {
      "cell_type": "markdown",
      "metadata": {},
      "source": [
        "### Définition des fonctions pour le calcul des anomalies"
      ]
    },
    {
      "cell_type": "code",
      "execution_count": null,
      "metadata": {},
      "outputs": [],
      "source": [
        "def set_month(img):\n",
        "    return img.set('month', ee.Date(img.get('system:time_start')).get('month'))\n",
        "\n",
        "\n",
        "def aggregation(collection, scale):\n",
        "    def inner(date):\n",
        "        date0 = ee.Date(date)\n",
        "        img = ee.Image(collection.filter(ee.Filter.eq('system:time_start', date)).first())\n",
        "        props = img.propertyNames()\n",
        "        condition = ee.Algorithms.If(ee.Number(ee.ImageCollection(collection.filterDate(date0.advance(ee.Number(scale-1).multiply(-1), 'month'), date0.advance(1, 'month'))).size()).lt(scale),\n",
        "                                     ee.Image().set('drop',1),\n",
        "                                     ee.Image(collection.filterDate(date0.advance(ee.Number(scale-1).multiply(-1), 'month'), date0.advance(1, 'month')).mean()).set('drop',0))\n",
        "        return ee.Image(condition).copyProperties(img, props).set('month', date0.get('month'))\n",
        "    return inner\n",
        "\n",
        "\n",
        "def z_scores(collection):\n",
        "    def wrap(i):\n",
        "        img = ee.Image(i)\n",
        "        props = img.propertyNames()\n",
        "        coll = collection.filter(ee.Filter.eq('month', i.get('month')))\n",
        "        mean = ee.ImageCollection(coll).mean()\n",
        "        sdv = ee.ImageCollection(coll).reduce(ee.Reducer.stdDev())\n",
        "        return img.subtract(mean).divide(sdv).copyProperties(img, props)\n",
        "    return wrap"
      ]
    },
    {
      "cell_type": "markdown",
      "metadata": {},
      "source": [
        "### Creation des séries d'anomalies (MAI)"
      ]
    },
    {
      "cell_type": "code",
      "execution_count": null,
      "metadata": {},
      "outputs": [],
      "source": [
        "smap_agg = smap_agg.map(set_month)\n",
        "dates = smap_agg.aggregate_array('system:time_start')\n",
        "smap_collection_2 = dates.map(aggregation(smap_agg, 1))\n",
        "smap_collection_2 = smap_collection_2.filter(ee.Filter.eq('drop', 0))\n",
        "smap_collection_2 = ee.ImageCollection.fromImages(smap_collection_2)\n",
        "MAI_collection = smap_collection_2.map(z_scores(smap_collection_2))\n",
        "\n",
        "date_start_mai = MAI_collection.limit(1, 'system:time_start', True).first().date().format('YYYY-MM-dd').getInfo()\n",
        "date_end_mai = MAI_collection.limit(1, 'system:time_start', False).first().date().format('YYYY-MM-dd').getInfo()\n",
        "print(f'date_start_mai = {date_start_mai}')\n",
        "print(f'date_end_mai = {date_end_mai}')"
      ]
    },
    {
      "cell_type": "code",
      "execution_count": null,
      "metadata": {},
      "outputs": [],
      "source": [
        "# N = dates.size().getInfo()\n",
        "# for i in range(N):\n",
        "#     print(ee.Date(dates.get(i)).format('YYYY-MM-dd').getInfo()) "
      ]
    },
    {
      "cell_type": "markdown",
      "metadata": {},
      "source": [
        "### Affichage des anomalies humidités pour une date spécifique"
      ]
    },
    {
      "cell_type": "code",
      "execution_count": null,
      "metadata": {},
      "outputs": [],
      "source": [
        "month = 5\n",
        "year = 2015\n",
        "\n",
        "MAI_date = MAI_collection.filterDate(ee.Date.fromYMD(year, month, 1),\n",
        "                                     ee.Date.fromYMD(year, month+1, 1)).first()\n",
        "\n",
        "date_1 = MAI_date.date().format('YYYY-MM-dd').getInfo()\n",
        "\n",
        "smap_date = smap_agg.filterDate(ee.Date.fromYMD(year, month, 1),\n",
        "                                ee.Date.fromYMD(year, month+1, 1)).first()"
      ]
    },
    {
      "cell_type": "code",
      "execution_count": null,
      "metadata": {},
      "outputs": [],
      "source": [
        "MAI_ex = MAI_date.getMapId({'min': -1, 'max': 1, 'palette': 'FF0000, FFFFFF, 0000FF', 'opacity':0.4})\n",
        "SMAP_ex = smap_date.getMapId({'min': 0, 'max': 1, 'palette': 'FF0000, FFFFFF, 0000FF', 'opacity':0.4})\n",
        "centroid = geo.coordinates().getInfo()[::-1]\n",
        "map = folium.Map(location=centroid, zoom_start=7)\n",
        "folium.TileLayer(\n",
        "    tiles = 'https://server.arcgisonline.com/ArcGIS/rest/services/World_Imagery/MapServer/tile/{z}/{y}/{x}',\n",
        "    attr='Map Data &copy; <a href=\"https://earthengine.google.com/\">Google Earth Engine</a>',\n",
        "    overlay=True,\n",
        "    name='satellite',\n",
        "  ).add_to(map)\n",
        "folium.TileLayer(\n",
        "    tiles=SMAP_ex['tile_fetcher'].url_format,\n",
        "    attr='Map Data &copy; <a href=\"https://earthengine.google.com/\">Google Earth Engine</a>',\n",
        "    overlay=True,\n",
        "    name=f'SMAP {date_1}',\n",
        "  ).add_to(map)\n",
        "folium.TileLayer(\n",
        "    tiles=MAI_ex['tile_fetcher'].url_format,\n",
        "    attr='Map Data &copy; <a href=\"https://earthengine.google.com/\">Google Earth Engine</a>',\n",
        "    overlay=True,\n",
        "    name=f'MAI {date_1}',\n",
        "  ).add_to(map)\n",
        "\n",
        "map.add_child(folium.LayerControl())\n",
        "map"
      ]
    },
    {
      "cell_type": "markdown",
      "metadata": {},
      "source": [
        "### Extraction des anomalies sur un lieu spécifique"
      ]
    },
    {
      "cell_type": "code",
      "execution_count": null,
      "metadata": {},
      "outputs": [],
      "source": [
        "samples = MAI_collection.map(sample_collection(geo))\n",
        "samples = samples.getInfo()\n",
        "dates = [pd.to_datetime(n['properties']['date']) for n in samples['features']]\n",
        "ano = [n['properties']['idx'] for n in samples['features']]\n",
        "df = pd.DataFrame(data={'idx':ano, 'date':dates})\n",
        "d = np.zeros(len(ano))"
      ]
    },
    {
      "cell_type": "code",
      "execution_count": null,
      "metadata": {},
      "outputs": [],
      "source": [
        "fig, axs = plt.subplots(figsize=(10, 3))\n",
        "axs.fill_between(dates, d, ano, where=df['idx']>=d, interpolate=True, color='blue', alpha=0.3, label='MAI')\n",
        "axs.fill_between(dates, d, ano, where=df['idx']<=d, interpolate=True, color='red', alpha=0.3)\n",
        "axs.set_ylabel('MAI')\n",
        "fig.show()"
      ]
    },
    {
      "cell_type": "markdown",
      "metadata": {},
      "source": [
        "### Prépare export de la collection MAI"
      ]
    },
    {
      "cell_type": "code",
      "execution_count": null,
      "metadata": {},
      "outputs": [],
      "source": [
        "# --- Prepare main folder name ---\n",
        "date_start_str = date_start_mai.replace('-', '')\n",
        "date_end_str = date_end_mai.replace('-', '')\n",
        "\n",
        "# --- Generate directory ---\n",
        "if (CLEAN_RUNFOLDER is None) or (CLEAN_RUNFOLDER==''): CLEAN_RUNFOLDER = 0\n",
        "else: CLEAN_RUNFOLDER = int(CLEAN_RUNFOLDER)\n",
        "\n",
        "outdir = os.path.join(WRK_DIR, f'RUN_MAI_DROUGHT_{TERRITORY_str}_{date_start_str}_{date_end_str}')\n",
        "os.umask(0) # used to reset the directories permission\n",
        "if not os.path.exists(outdir):\n",
        "    os.makedirs(outdir)\n",
        "    os.chmod(outdir, 0o777)\n",
        "elif CLEAN_RUNFOLDER==1:\n",
        "    shutil.rmtree(outdir)\n",
        "    os.makedirs(outdir)\n",
        "    os.chmod(outdir, 0o777)\n",
        "\n",
        "# --- Generate sub-directories ---\n",
        "outdir_mai = os.path.normpath(outdir + os.sep + 'MAI')\n",
        "outdir_maimonth = os.path.normpath(outdir_mai + os.sep + 'MONTH/')\n",
        "outdir_maistats = os.path.normpath(outdir_mai + os.sep + 'STATS/')\n",
        "if not os.path.exists(outdir_mai): os.makedirs(outdir_mai)\n",
        "if not os.path.exists(outdir_maimonth): os.makedirs(outdir_maimonth)\n",
        "if not os.path.exists(outdir_maistats): os.makedirs(outdir_maistats)\n",
        "\n",
        "# --- Concenate dir paths ---\n",
        "OUTDIR_PATHS = (outdir_mai, outdir_maimonth, outdir_maistats)\n"
      ]
    },
    {
      "cell_type": "code",
      "execution_count": null,
      "metadata": {},
      "outputs": [],
      "source": [
        "# --- Extract VHI bounding box ---\n",
        "histo_files = glob.glob(os.path.join(DATA_HISTO,'0_INDICES', 'MODIS', 'DECADE','*.tif'))\n",
        "with rasterio.open(histo_files[0]) as d_ds :\n",
        "    (lon_min_modis, lat_min_modis,\n",
        "     lon_max_modis, lat_max_modis) = d_ds.bounds\n",
        "\n",
        "CRS_OUT = 'EPSG:4326'\n",
        "SCALE_OUT = smap_collection.first().select(sm_param).projection().nominalScale()\n",
        "GRID_OUT = ee.Geometry.BBox(float(lon_min_modis), float(lat_min_modis),\n",
        "                            float(lon_max_modis), float(lat_max_modis))\n",
        "\n",
        "# MAI_collection = MAI_collection.filterDate(CONFIG['PERIOD_START'], CONFIG['PERIOD_END'])\n",
        "N_mai = MAI_collection.size().getInfo()\n",
        "MAI_list = MAI_collection.toList(N_mai)"
      ]
    },
    {
      "cell_type": "code",
      "execution_count": null,
      "metadata": {},
      "outputs": [],
      "source": [
        "for i in tqdm(range(N_mai), desc='MAI EXPORTED'):\n",
        "  MAI_i = ee.Image(MAI_list.get(i))\n",
        "  date_i = MAI_i.date().format('YYYYMM').getInfo()\n",
        "  MAI_filename = f'MAI_{date_i}M'\n",
        "  geegen.exportImage(DRIVE_FOLDER,\n",
        "                     MAI_i,\n",
        "                     MAI_filename,\n",
        "                     export_folder=OUTDIR_PATHS[1],\n",
        "                     path2key=path2key,\n",
        "                     data_crs=CRS_OUT,\n",
        "                     data_scale=SCALE_OUT,\n",
        "                     data_region=GRID_OUT)\n",
        "  del MAI_i,date_i,MAI_filename"
      ]
    }
  ],
  "metadata": {
    "colab": {
      "authorship_tag": "ABX9TyNE1lowhoUaBnMfWUAQRZJ1",
      "include_colab_link": true,
      "name": "AVHRR_MODIS_NDVI.ipynb",
      "provenance": []
    },
    "kernelspec": {
      "display_name": "Python 3",
      "name": "python3"
    },
    "language_info": {
      "codemirror_mode": {
        "name": "ipython",
        "version": 3
      },
      "file_extension": ".py",
      "mimetype": "text/x-python",
      "name": "python",
      "nbconvert_exporter": "python",
      "pygments_lexer": "ipython3",
      "version": "3.11.2"
    }
  },
  "nbformat": 4,
  "nbformat_minor": 0
}
