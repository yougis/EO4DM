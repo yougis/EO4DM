{
 "cells": [
  {
   "cell_type": "markdown",
   "metadata": {},
   "source": [
    "# Notebook pour nettoyer l'espace en ligne GEE ASSETS"
   ]
  },
  {
   "cell_type": "markdown",
   "metadata": {},
   "source": [
    "### DEFINITION DU WRK DIR"
   ]
  },
  {
   "cell_type": "code",
   "execution_count": 1,
   "metadata": {},
   "outputs": [],
   "source": [
    "import os\n",
    "\n",
    "WRK_DIR = os.path.normpath('D:/MATHIS/0_Projet_Secheresse/1_Scripts/toolbox/eo4dm-oeil/EO4DM')\n",
    "os.chdir(WRK_DIR)"
   ]
  },
  {
   "attachments": {},
   "cell_type": "markdown",
   "metadata": {},
   "source": [
    "### SUPPRESSION DOSSIER ASSET GEE"
   ]
  },
  {
   "cell_type": "code",
   "execution_count": 2,
   "metadata": {},
   "outputs": [
    {
     "name": "stdout",
     "output_type": "stream",
     "text": [
      "ASSETS (GEE) WORKDIR TO DELETE : \n",
      "{'type': 'FOLDER', 'name': 'projects/eo4dm-388602/assets/PREPROC_GLOBAL_INDICES_Fiji', 'id': 'projects/eo4dm-388602/assets/PREPROC_GLOBAL_INDICES_Fiji', 'updateTime': '2023-11-20T07:09:20.070336Z'}\n"
     ]
    }
   ],
   "source": [
    "# Set input parameters : CHAIN (GLOBAL/LOCAL), TERRITORY\n",
    "import ee\n",
    "import dmpipeline.GEE_Processing.GEE_generic_functions as geegen\n",
    "import dmpipeline.GEE_Processing.gee_accounts as geeauth\n",
    "\n",
    "CHAIN = 'GLOBAL'\n",
    "TERRITORY =\"Fiji\"\n",
    "TERRITORY_str = TERRITORY.replace('\"', '').replace(' ', '_').replace('(', '').replace(')', '')\n",
    "\n",
    "# Find assets folders\n",
    "path2key = os.path.dirname(geeauth.__file__)\n",
    "project_id = geegen.googleAuthentification(path2key)\n",
    "\n",
    "gee_workdir = 'projects'+'/'+project_id+'/'+'assets'\n",
    "gee_asset_name = f'PREPROC_{CHAIN}_INDICES_{TERRITORY_str}'\n",
    "assets_list = (ee.data.listAssets({'parent':gee_workdir}))['assets']\n",
    "assets_match = []\n",
    "for asset in assets_list:\n",
    "      if gee_asset_name in asset[\"name\"]:\n",
    "          assets_match += [asset]\n",
    "gee_folder = assets_match[0]\n",
    "del assets_list\n",
    "print(f'ASSETS (GEE) WORKDIR TO DELETE : \\n{gee_folder}')"
   ]
  },
  {
   "cell_type": "code",
   "execution_count": 3,
   "metadata": {},
   "outputs": [
    {
     "name": "stderr",
     "output_type": "stream",
     "text": [
      "05/02/2024 10:21:01 - INFO - \n",
      "Cleaning asset(s) :\n",
      "100%|██████████| 9/9 [34:26<00:00, 229.66s/it]\n"
     ]
    }
   ],
   "source": [
    "# Do cleaning gee_folder:\n",
    "geegen.cleanAssets(gee_folder)"
   ]
  },
  {
   "cell_type": "markdown",
   "metadata": {},
   "source": [
    "### SUPPRESSION IMAGE COLLECTION (dans dossier asset GEE)"
   ]
  },
  {
   "cell_type": "code",
   "execution_count": 3,
   "metadata": {},
   "outputs": [
    {
     "name": "stdout",
     "output_type": "stream",
     "text": [
      "ASSETS (GEE) COLLECTION TO DELETE : \n",
      "{'type': 'IMAGE_COLLECTION', 'name': 'projects/eo4dm-388602/assets/PREPROC_GLOBAL_INDICES_Fiji/MODIS_V0', 'id': 'projects/eo4dm-388602/assets/PREPROC_GLOBAL_INDICES_Fiji/MODIS_V0', 'updateTime': '2023-11-21T00:34:51.627403Z'}\n"
     ]
    }
   ],
   "source": [
    "# Set input parameters : COLLECTION\n",
    "gee_collection_name = 'MODIS_V0'\n",
    "\n",
    "# Find image collection in gee_folder\n",
    "assets_list = (ee.data.listAssets({'parent':gee_folder['name']}))['assets']\n",
    "assets_match = []\n",
    "for asset in assets_list:\n",
    "      if gee_collection_name in asset[\"name\"]:\n",
    "          assets_match += [asset]\n",
    "gee_collection = assets_match[0]\n",
    "print(f'ASSETS (GEE) COLLECTION TO DELETE : \\n{gee_collection}')"
   ]
  },
  {
   "cell_type": "code",
   "execution_count": 4,
   "metadata": {},
   "outputs": [
    {
     "name": "stderr",
     "output_type": "stream",
     "text": [
      "05/02/2024 11:28:44 - INFO - \n",
      "Cleaning asset(s) :\n",
      "100%|██████████| 539/539 [13:04<00:00,  1.46s/it]\n"
     ]
    }
   ],
   "source": [
    "# Do cleaning gee_collection (in gee_folder):\n",
    "geegen.cleanAssets(gee_collection)"
   ]
  }
 ],
 "metadata": {
  "kernelspec": {
   "display_name": "dmpipeline-env",
   "language": "python",
   "name": "python3"
  },
  "language_info": {
   "codemirror_mode": {
    "name": "ipython",
    "version": 3
   },
   "file_extension": ".py",
   "mimetype": "text/x-python",
   "name": "python",
   "nbconvert_exporter": "python",
   "pygments_lexer": "ipython3",
   "version": "3.11.2"
  },
  "orig_nbformat": 4
 },
 "nbformat": 4,
 "nbformat_minor": 2
}
