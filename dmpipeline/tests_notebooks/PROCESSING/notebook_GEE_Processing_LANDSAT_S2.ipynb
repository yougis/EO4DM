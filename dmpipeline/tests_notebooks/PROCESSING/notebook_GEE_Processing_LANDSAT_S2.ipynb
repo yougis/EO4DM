{
 "cells": [
  {
   "cell_type": "markdown",
   "metadata": {},
   "source": [
    "# Notebook pour le calcul des indices NDWI, NDVI (LANDSAT-S2)"
   ]
  },
  {
   "attachments": {},
   "cell_type": "markdown",
   "metadata": {},
   "source": [
    "### Initialisation contexte test appli"
   ]
  },
  {
   "cell_type": "code",
   "execution_count": null,
   "metadata": {},
   "outputs": [],
   "source": [
    "import os\n",
    "\n",
    "# Manually filling Config dictionnary (can be filled by reading Config_process.env) :\n",
    "\n",
    "CONFIG = {}\n",
    "\n",
    "CONFIG['WRK_DIR'] = os.path.normpath('D:/MATHIS/0_Projet_Secheresse/1_Scripts/toolbox/eo4dm-oeil/EO4DM')\n",
    "os.chdir(CONFIG['WRK_DIR'])\n",
    "CONFIG['WRK_DIR'] = os.path.normpath('Y:/EO4DM')\n",
    "CONFIG['DATA_HISTO'] = os.path.join(CONFIG['WRK_DIR'],'DATA_HISTO')\n",
    "CONFIG['ANNEX_DIR'] = os.path.join(CONFIG['WRK_DIR'],'ANNEX')\n",
    "\n",
    "CONFIG['TERRITORY'] = 'New Caledonia (Fr)'\n",
    "CONFIG['PERIOD_START'] = '2023-11-11'\n",
    "CONFIG['PERIOD_END'] = '2023-11-21'\n",
    "CONFIG['DRIVE_FOLDER'] = 'EO4DM_EXPORT_NOTEBOOK'\n",
    "CONFIG['LANDMASK_ROI'] = 0                                # if 1, preproc products are masked for pixels outside landmask roi (input shapefile to upload on gee asset)\n",
    "CONFIG['ASSET_EXPORT_L'] = 0                                # if 1, preproc products are exported to gee\n",
    "CONFIG['ASSET_EXPORT_S2'] = 0                                # if 1, preproc products are exported to gee\n",
    "CONFIG['CLEAN_GEEFOLDER'] = 0                             # if 1, gee already existing folder is cleaned (deleted, and re-created)\n",
    "CONFIG['CLEAN_GEECOL'] = 0                                # if 1, gee already exported products are cleaned (deleted, and re-created)\n",
    "CONFIG['CLEAN_RUNFOLDER'] = 0                         # if 1, drought already existing folder is cleaned (deleted, and re-created)\n",
    "CONFIG['MODE'] = 'DROUGHT'                                 # 'AUTO', 'MANUAL', 'INDICES' or 'DROUGHT' mode of drought processing chain\n",
    "\n",
    "CONFIG['TILES_L'] = ['82075','81075'] # fill with '' (if empty)\n",
    "# CONFIG['TILES_L'] = ['82075','81075','83074','82074','81074','80075','81076'] # fill with '' (if empty)\n",
    "CONFIG['TILES_S2'] = ['58KCC','58KCD','58KDB','58KDC']\n",
    "# CONFIG['TILES_S2'] = ['58KCC','58KCD','58KDB','58KDC','58KEA','58KEB','58KEC','58KFA','58KFB','58KFC','58KGA','58KGB','58KGC','58KGV','58KHB']"
   ]
  },
  {
   "cell_type": "markdown",
   "metadata": {},
   "source": [
    "### Test détection auto de la période à traiter (en fonction de data_histo)"
   ]
  },
  {
   "cell_type": "code",
   "execution_count": null,
   "metadata": {},
   "outputs": [],
   "source": [
    "import dmpipeline.DROUGHT_Processing.DROUGHT_local_functions as dloc\n",
    "go_process, CONFIG['PERIOD_START'], CONFIG['PERIOD_END'] = dloc.auto_processingPERIOD(CONFIG)\n",
    "\n",
    "print(f'go_process = {go_process}')\n",
    "PERIOD_START = CONFIG['PERIOD_START']\n",
    "PERIOD_END = CONFIG['PERIOD_END']\n",
    "print(f'PERIOD_START = {PERIOD_START}')\n",
    "print(f'PERIOD_END = {PERIOD_END}')"
   ]
  },
  {
   "cell_type": "code",
   "execution_count": null,
   "metadata": {},
   "outputs": [],
   "source": [
    "import dmpipeline.GEE_Processing.GEE_main_functions as geemain\n",
    "go_landsat_s2, go_month, PERIOD_START, PERIOD_END, TERRITORY, TILES_L, TILES_S2 = geemain.check_GEEProducts_LANDSAT_S2(CONFIG)\n",
    "\n",
    "print(f'go_landsat_s2 = {go_landsat_s2}')\n",
    "print(f'go_month = {go_month}')\n",
    "print(f'PERIOD_START = {PERIOD_START}')\n",
    "print(f'PERIOD_END = {PERIOD_END}')\n",
    "print(f'TERRITORY = {TERRITORY}')\n",
    "print(f'TILES_L = {TILES_L}')\n",
    "print(f'TILES_S2 = {TILES_S2}')"
   ]
  },
  {
   "cell_type": "code",
   "execution_count": null,
   "metadata": {},
   "outputs": [],
   "source": [
    "import dmpipeline.DROUGHT_Processing.DROUGHT_local_functions as dloc\n",
    "OUTDIR_PATHS = dloc.prepare_RUNFolders(CONFIG)"
   ]
  },
  {
   "cell_type": "code",
   "execution_count": null,
   "metadata": {},
   "outputs": [],
   "source": [
    "import dmpipeline.GEE_Processing.GEE_main_functions as geemain\n",
    "COLLECTIONS, PARAM, DICT = geemain.initialize_GEEProcessing_LANDSAT_S2(CONFIG, OUTDIR_PATHS[3])"
   ]
  },
  {
   "attachments": {},
   "cell_type": "markdown",
   "metadata": {},
   "source": [
    "### Vérification bonne lecture GEE des collections LANDSAT/S2"
   ]
  },
  {
   "cell_type": "code",
   "execution_count": null,
   "metadata": {},
   "outputs": [],
   "source": [
    "# (LANDSAT_COLLECTIONS, S2_COLLECTIONS,\n",
    "#  NEW_LANDSATCOLLECTIONS, NEW_S2COLLECTIONS, LANDSAT_GRIDS, landmask) = COLLECTIONS\n",
    "# (SCALE_OUT, DATES) = PARAM\n",
    "\n",
    "# tile_L = CONFIG['TILES_L'][0]\n",
    "\n",
    "# print(f'\\n --- TILE LANDSAT {tile_L} :')\n",
    "\n",
    "# (L7_tile, L8_tile, L9_tile) = LANDSAT_COLLECTIONS[tile_L]\n",
    "# S2_alltiles = S2_COLLECTIONS[tile_L]\n",
    "\n",
    "# Nb_L7images = L7_tile.size().getInfo()\n",
    "# Nb_L8images = L8_tile.size().getInfo()\n",
    "# Nb_L9images = L9_tile.size().getInfo()\n",
    "# Nb_S2images = S2_alltiles.size().getInfo()\n",
    "\n",
    "# (date_start, date_end) = DATES[tile_L]\n",
    "# date_start_str = date_start.format('YYYYMMdd').getInfo()\n",
    "# date_end_str = date_end.format('YYYYMMdd').getInfo()\n",
    "\n",
    "# print(f'     {date_start_str} -> {date_end_str}')\n",
    "# print(f'     - L7 = {Nb_L7images}')\n",
    "# print(f'     - L8 = {Nb_L8images}')\n",
    "# print(f'     - L9 = {Nb_L9images}')\n",
    "# print(f'     - S2 = {Nb_S2images}')\n",
    "\n",
    "# print(f'NEW GEE LANDSAT Collection path:\\n{NEW_LANDSATCOLLECTIONS[tile_L]}\\n')\n",
    "\n",
    "# print(f'NEW GEE S2 Collection paths:')\n",
    "# if Nb_S2images==0:  print('No path (no S2 collections on the selected area/period)')\n",
    "# else:\n",
    "#   for tile_S2 in NEW_S2COLLECTIONS[tile_L]:\n",
    "#     print(f'   - {tile_S2}: {NEW_S2COLLECTIONS[tile_L][tile_S2]}')\n"
   ]
  },
  {
   "attachments": {},
   "cell_type": "markdown",
   "metadata": {},
   "source": [
    "### Extrait collections pour la tuile Landast tile_L, un mois m (et une année y)"
   ]
  },
  {
   "cell_type": "code",
   "execution_count": null,
   "metadata": {},
   "outputs": [],
   "source": [
    "# import ee\n",
    "# import dmpipeline.GEE_Processing.gee_accounts as geeauth\n",
    "\n",
    "# path2key = os.path.dirname(geeauth.__file__)\n",
    "# proj = L7_tile.merge(L8_tile).merge(L9_tile).first().select('SR_B4').projection().getInfo()\n",
    "\n",
    "# (QA_dict_L, QAtable_filename_L, QAtable_columns_L,\n",
    "#  QA_dict_S2, QAtable_filename_S2, QAtable_columns_S2,\n",
    "#  COMP_dict, COMPtable_filename, COMPtable_columns) = DICT\n",
    "# # y=2002\n",
    "# # m=7\n",
    "# y = ee.Date(date_start).get('year').getInfo()\n",
    "# m = ee.Date(date_start).get('month').getInfo()\n",
    "\n",
    "# L7_month = (L7_tile\n",
    "#             .filter(ee.Filter.calendarRange(y,y,'year'))\n",
    "#             .filter(ee.Filter.calendarRange(m,m,'month')))\n",
    "# L8_month = (L8_tile\n",
    "#             .filter(ee.Filter.calendarRange(y,y,'year'))\n",
    "#             .filter(ee.Filter.calendarRange(m,m,'month')))\n",
    "# L9_month = (L9_tile\n",
    "#             .filter(ee.Filter.calendarRange(y,y,'year'))\n",
    "#             .filter(ee.Filter.calendarRange(m,m,'month')))\n",
    "# S2_month = (S2_alltiles\n",
    "#             .filter(ee.Filter.calendarRange(y,y,'year'))\n",
    "#             .filter(ee.Filter.calendarRange(m,m,'month')))\n"
   ]
  },
  {
   "attachments": {},
   "cell_type": "markdown",
   "metadata": {},
   "source": [
    "### Test Calcul indices LANDSAT-7 sur deux dates"
   ]
  },
  {
   "cell_type": "code",
   "execution_count": null,
   "metadata": {},
   "outputs": [],
   "source": [
    "# import dmpipeline.GEE_Processing.GEE_preprocessing_functions as geeprep\n",
    "\n",
    "# L7_list = L7_month.toList(L7_month.size().getInfo())\n",
    "\n",
    "# # Extrait L7 pour 1er produit du mois\n",
    "# i = 0\n",
    "# l7 = ee.Image(L7_list.get(i))\n",
    "# l7_indices_preproc, QA_dict_L  = geeprep.preprocessingL7(l7, landmask, LANDSAT_GRIDS[tile_L], tile_L, NEW_LANDSATCOLLECTIONS[tile_L], QA_dict_L, path2key, int(CONFIG['ASSET_EXPORT']))\n",
    "\n",
    "# # Extrait L7 pour 2ème produit du mois\n",
    "# i = 1\n",
    "# l7 = ee.Image(L7_list.get(i))\n",
    "# l7_indices_preproc_2, QA_dict_L  = geeprep.preprocessingL7(l7, landmask, LANDSAT_GRIDS[tile_L], tile_L, NEW_LANDSATCOLLECTIONS[tile_L], QA_dict_L, path2key, int(CONFIG['ASSET_EXPORT']))\n"
   ]
  },
  {
   "cell_type": "code",
   "execution_count": null,
   "metadata": {},
   "outputs": [],
   "source": [
    "# # Import already processed assets (to avoid recomputing, if needed)\n",
    "# import ee\n",
    "# l7_indices_preproc = ee.Image('projects/eo4dm-367504/assets/PREPROC_LOCAL_INDICES_New_Caledonia_Fr/LANDSAT_82074/LE07_L2SR_082074_20090509_20200912_02_T1')\n",
    "# l7_indices_preproc_2 = ee.Image('projects/eo4dm-367504/assets/PREPROC_LOCAL_INDICES_New_Caledonia_Fr/LANDSAT_82074/LE07_L2SR_082074_20090525_20200912_02_T1')"
   ]
  },
  {
   "attachments": {},
   "cell_type": "markdown",
   "metadata": {},
   "source": [
    "### Test Composition temporelle indices LANDSAT-7 sur deux dates"
   ]
  },
  {
   "cell_type": "code",
   "execution_count": null,
   "metadata": {},
   "outputs": [],
   "source": [
    "# import dmpipeline.GEE_Processing.GEE_compositing_functions as geecomp\n",
    "# import dmpipeline.GEE_Processing.GEE_generic_functions as geegen\n",
    "\n",
    "# # Concatenates both images into a single image collection\n",
    "# indices_comp = ee.ImageCollection([l7_indices_preproc, l7_indices_preproc_2])\n",
    "\n",
    "# # Computes composite on each band\n",
    "# INDICES_comp = geecomp.extractComposite(indices_comp, LANDSAT_GRIDS[tile_L])\n",
    "# NDWI_comp = INDICES_comp['NDWI']\n",
    "# NDVI_comp = INDICES_comp['NDVI']\n",
    "\n",
    "# band_ndwi_comp = NDWI_comp.bandNames().getInfo()\n",
    "# band_ndvi_comp = NDVI_comp.bandNames().getInfo()\n",
    "\n",
    "# crs_ndwi_comp = NDWI_comp.projection().getInfo()['crs']\n",
    "# crs_ndvi_comp = NDVI_comp.projection().getInfo()['crs']\n",
    "\n",
    "# print(f'\\nbands comp NDWI = {band_ndwi_comp}')\n",
    "# print(f'\\nbands comp NDVI = {band_ndvi_comp}')\n",
    "# print(f'\\ncrs comp NDWI = {crs_ndwi_comp}')"
   ]
  },
  {
   "cell_type": "code",
   "execution_count": null,
   "metadata": {},
   "outputs": [],
   "source": [
    "# composite_image = INDICES_comp['NDWI'].addBands(INDICES_comp['NDVI'], overwrite=True).select(['NDWI', 'NDVI'])\n",
    "\n",
    "# # Check geometries (after and before compositing)\n",
    "# l7_geom = l7_indices_preproc.select('NDWI').geometry().getInfo()['coordinates']\n",
    "# l7_geom_2 = l7_indices_preproc_2.select('NDWI').geometry().getInfo()['coordinates']\n",
    "# comp_geom = composite_image.select('NDWI').geometry().getInfo()['coordinates']\n",
    "\n",
    "# print(f'l7_geom = {l7_geom}')\n",
    "# print(f'l7_geom dip1 = {l7_geom_2}')\n",
    "# print(f'comp_geom = {comp_geom}')"
   ]
  },
  {
   "cell_type": "code",
   "execution_count": null,
   "metadata": {},
   "outputs": [],
   "source": [
    "# # Extracts nan scores :\n",
    "# l7_NANSCORES = geegen.computeNanScores(l7_indices_preproc, landmask)\n",
    "# l7_NANSCORES_2 = geegen.computeNanScores(l7_indices_preproc_2, landmask)\n",
    "# print(f'\\nl7 nan scores ori = {l7_NANSCORES}')\n",
    "# print(f'\\nl7 nan scores dip1 ori = {l7_NANSCORES_2}')\n",
    "\n",
    "# l7_NANSCORES_new = geegen.computeNanScores(l7_indices_preproc, landmask, data_geom=LANDSAT_GRIDS[tile_L])\n",
    "# l7_NANSCORES_new_2 = geegen.computeNanScores(l7_indices_preproc_2, landmask, data_geom=LANDSAT_GRIDS[tile_L])\n",
    "# print(f'\\nl7 nan scores new = {l7_NANSCORES_new}')\n",
    "# print(f'\\nl7 nan scores dip1 new = {l7_NANSCORES_new_2}')\n",
    "\n",
    "# COMP_NANSCORES = geegen.computeNanScores(composite_image, landmask, data_geom=LANDSAT_GRIDS[tile_L], scale=SCALE_OUT)\n",
    "# print(f'\\ncomposite nan scores = {COMP_NANSCORES}')\n"
   ]
  },
  {
   "cell_type": "code",
   "execution_count": null,
   "metadata": {},
   "outputs": [],
   "source": [
    "# import dmpipeline.GEE_Processing.GEE_generic_functions as geegen\n",
    "\n",
    "# comp_ndwi_filename = 'LANDSAT_7_NDWI'\n",
    "# comp_ndvi_filename = 'LANDSAT_7_NDVI'\n",
    "\n",
    "# # geegen.exportImage(CONFIG['DRIVE_FOLDER'], INDICES_comp['NDWI'], comp_ndwi_filename, export_folder=OUTDIR_PATHS[1], path2key=path2key, data_crs=proj['crs'], data_scale=SCALE_OUT, data_region=LANDSAT_GRIDS[tile_L])\n",
    "# geegen.exportImage(CONFIG['DRIVE_FOLDER'], INDICES_comp['NDVI'], comp_ndvi_filename, export_folder=OUTDIR_PATHS[1], path2key=path2key, data_crs=proj['crs'], data_scale=SCALE_OUT, data_region=LANDSAT_GRIDS[tile_L])"
   ]
  },
  {
   "attachments": {},
   "cell_type": "markdown",
   "metadata": {},
   "source": [
    "### Test Calcul indices LANDSAT/S2 (un indice par capteur disponible)"
   ]
  },
  {
   "cell_type": "code",
   "execution_count": null,
   "metadata": {},
   "outputs": [],
   "source": [
    "\n",
    "# import dmpipeline.GEE_Processing.GEE_preprocessing_functions as geeprep\n",
    "\n",
    "# if L7_month.size().getInfo()!=0:\n",
    "#   l7_indices_preproc, QA_dict_L  = geeprep.preprocessingL7(L7_month.first(), landmask, LANDSAT_GRIDS[tile_L], tile_L, NEW_LANDSATCOLLECTIONS[tile_L], QA_dict_L, path2key, int(CONFIG['ASSET_EXPORT']))\n",
    "\n",
    "# if L8_month.size().getInfo()!=0:\n",
    "#   l8_indices_preproc, QA_dict_L = geeprep.preprocessingL8L9(L8_month.first(), landmask, LANDSAT_GRIDS[tile_L], tile_L, NEW_LANDSATCOLLECTIONS[tile_L], QA_dict_L, path2key, int(CONFIG['ASSET_EXPORT']))\n",
    "\n",
    "# if L9_month.size().getInfo()!=0:\n",
    "#   l9_indices_preproc, QA_dict_L = geeprep.preprocessingL8L9(L9_month.first(), landmask, LANDSAT_GRIDS[tile_L], tile_L, NEW_LANDSATCOLLECTIONS[tile_L], QA_dict_L, path2key, int(CONFIG['ASSET_EXPORT']))\n",
    "\n",
    "# if S2_month.size().getInfo()!=0:\n",
    "#   tile_S2 = S2_month.get('MGRS_TILE').getInfo()\n",
    "#   s2_indices_preproc, QA_dict_S2 = geeprep.preprocessingS2(S2_month.first(), landmask, tile_L, NEW_S2COLLECTIONS[tile_L][tile_S2], QA_dict_S2, path2key, int(CONFIG['ASSET_EXPORT']))\n"
   ]
  },
  {
   "cell_type": "code",
   "execution_count": null,
   "metadata": {},
   "outputs": [],
   "source": [
    "# if L7_month.size().getInfo()!=0:\n",
    "#   bandsl7 = l7_indices_preproc.bandNames().getInfo()\n",
    "#   QA_l7 = QA_dict_L[0].getInfo()['properties']\n",
    "#   print(f'bandsl7 = {bandsl7}')\n",
    "#   print(f'QA_l7 : \\n{QA_l7}')\n",
    "\n",
    "# if L8_month.size().getInfo()!=0:\n",
    "#   bandsl8 = l8_indices_preproc.bandNames().getInfo()\n",
    "#   QA_l8 = QA_dict_L[0].getInfo()['properties']\n",
    "#   print(f'bandsl8 = {bandsl8}')\n",
    "#   print(f'QA_l8 : \\n{QA_l8}')\n",
    "\n",
    "# if L9_month.size().getInfo()!=0:\n",
    "#   bandsl9 = l9_indices_preproc.bandNames().getInfo()\n",
    "#   QA_l9 = QA_dict_L[1].getInfo()['properties']\n",
    "#   print(f'bandsl9 = {bandsl9}')\n",
    "#   print(f'QA_l9 : \\n{QA_l9}')\n",
    "\n",
    "# if S2_month.size().getInfo()!=0:\n",
    "#   bandss2 = s2_indices_preproc.bandNames().getInfo()\n",
    "#   QA_s2 = QA_dict_S2[0].getInfo()['properties']\n",
    "#   print(f'bandss2 = {bandss2}')\n",
    "#   print(f'QA_s2 : \\n{QA_s2}')\n"
   ]
  },
  {
   "attachments": {},
   "cell_type": "markdown",
   "metadata": {},
   "source": [
    "### Test Composition temporelle indices LANDSAT/S2"
   ]
  },
  {
   "cell_type": "code",
   "execution_count": null,
   "metadata": {},
   "outputs": [],
   "source": [
    "# /!\\ A ADAPTER POUR LANDSAT/S2... /!\\\n",
    "\n",
    "# # Load already processed indices (to avoid running again above lines)\n",
    "# import ee\n",
    "# import GEE_Processing.GEE_generic_functions as geegen\n",
    "\n",
    "# project_id = geegen.googleAuthentification(os.path.join(os.getcwd(),'GEE_Processing'))\n",
    "# new_collection = 'projects/eo4dm-367504/assets/PREPROC_GLOBAL_INDICES_200301_200301_New_Caledonia_Fr/MODIS'\n",
    "\n",
    "# di = 1\n",
    "# indices_preproc = ee.ImageCollection(new_collection).filter(ee.Filter.calendarRange(di,di,'DAY_OF_MONTH')).first()\n",
    "\n",
    "# dip1 = 2\n",
    "# indices_preproc = ee.ImageCollection(new_collection).filter(ee.Filter.calendarRange(dip1,dip1,'DAY_OF_MONTH')).first()\n",
    "\n",
    "# GRID_OUT =  ee.Geometry.Polygon([[[BBOX_OUT['lon_min'], BBOX_OUT['lat_max']],\n",
    "#                                   [BBOX_OUT['lon_min'], BBOX_OUT['lat_min']],\n",
    "#                                   [BBOX_OUT['lon_max'], BBOX_OUT['lat_min']],\n",
    "#                                   [BBOX_OUT['lon_max'], BBOX_OUT['lat_max']]]],None, False)\n",
    "\n",
    "# SCALE_REFLECT = new_ndwi_di.select('NDWI').projection().nominalScale()\n",
    "\n",
    "# print(indices_preproc.bandNames().getInfo())\n",
    "# print(indices_preproc.date().format('YYYYMMdd').getInfo())\n",
    "# print(indices_preproc_dip1.bandNames().getInfo())\n",
    "# print(indices_preproc_dip1.date().format('YYYYMMdd').getInfo())\n"
   ]
  },
  {
   "cell_type": "code",
   "execution_count": null,
   "metadata": {},
   "outputs": [],
   "source": [
    "# Concatenates both images into a single image collection\n",
    "# /!\\ A MODIFIER SELON INDICES EN ENTREE\n",
    "# indices_comp = ee.ImageCollection([l8_indices_preproc, l9_indices_preproc, s2_indices_preproc])"
   ]
  },
  {
   "cell_type": "code",
   "execution_count": null,
   "metadata": {},
   "outputs": [],
   "source": [
    "# import dmpipeline.GEE_Processing.GEE_compositing_functions as geecomp\n",
    "\n",
    "# # Computes composite on each band\n",
    "# INDICES_comp = geecomp.extractComposite(indices_comp, LANDSAT_GRIDS[tile_L])\n"
   ]
  },
  {
   "cell_type": "code",
   "execution_count": null,
   "metadata": {},
   "outputs": [],
   "source": [
    "# NDWI_comp = INDICES_comp['NDWI']\n",
    "# NDVI_comp = INDICES_comp['NDVI']\n",
    "\n",
    "# band_ndwi_comp = NDWI_comp.bandNames().getInfo()\n",
    "# band_ndvi_comp = NDVI_comp.bandNames().getInfo()\n",
    "\n",
    "# crs_ndwi_comp = NDWI_comp.projection().getInfo()['crs']\n",
    "# crs_ndvi_comp = NDVI_comp.projection().getInfo()['crs']\n",
    "\n",
    "# print(f'\\nbands comp NDWI = {band_ndwi_comp}')\n",
    "# print(f'\\nbands comp NDVI = {band_ndvi_comp}')\n",
    "\n",
    "# print(f'\\ncrs comp NDWI = {crs_ndwi_comp}')\n",
    "# print(f'\\ncrs comp NDVI = {crs_ndvi_comp}')"
   ]
  },
  {
   "cell_type": "code",
   "execution_count": null,
   "metadata": {},
   "outputs": [],
   "source": [
    "# import dmpipeline.GEE_Processing.GEE_generic_functions as geegen\n",
    "\n",
    "# comp_ndwi_filename = 'LANDSAT_SENTINEL2_NDWI'\n",
    "# comp_ndvi_filename = 'LANDSAT_SENTINEL2_NDVI'"
   ]
  },
  {
   "cell_type": "code",
   "execution_count": null,
   "metadata": {},
   "outputs": [],
   "source": [
    "# geegen.exportImage(CONFIG['DRIVE_FOLDER'], INDICES_comp['NDWI'], comp_ndwi_filename, export_folder=OUTDIR_PATHS[1], path2key=path2key, data_crs=proj['crs'], data_transform=proj['transform'], data_region=LANDSAT_GRIDS[tile_L])\n",
    "# geegen.exportImage(CONFIG['DRIVE_FOLDER'], INDICES_comp['NDVI'], comp_ndvi_filename, export_folder=OUTDIR_PATHS[1], path2key=path2key, data_crs=proj['crs'], data_transform=proj['transform'], data_region=LANDSAT_GRIDS[tile_L])"
   ]
  },
  {
   "attachments": {},
   "cell_type": "markdown",
   "metadata": {},
   "source": [
    "### Composition temporelle des indices LANDSAT/S2 par décade (sur un mois)"
   ]
  },
  {
   "cell_type": "code",
   "execution_count": null,
   "metadata": {},
   "outputs": [],
   "source": [
    "# import dmpipeline.GEE_Processing.GEE_compositing_functions as geecomp\n",
    "\n",
    "# # Calcul composites décades\n",
    "\n",
    "# (NDWIcomp_col, NDVIcomp_col, QA_dict_L, QA_dict_S2,COMP_TYPES,\n",
    "#  COMP_NANSCORES, NBL8_DATES, NBL9_DATES, NBS2_DATES) = geecomp.processCompositeDecade_LANDSAT_S2(L8_tile, L9_tile, S2_alltiles,\n",
    "#                                                                                                   y, m, landmask, LANDSAT_GRIDS[tile_L], tile_L, SCALE_OUT,\n",
    "#                                                                                                   NEW_LANDSATCOLLECTIONS[tile_L], NEW_S2COLLECTIONS[tile_L],\n",
    "#                                                                                                   QA_dict_L, QA_dict_S2, path2key, int(CONFIG['ASSET_EXPORT']))"
   ]
  },
  {
   "cell_type": "code",
   "execution_count": null,
   "metadata": {},
   "outputs": [],
   "source": [
    "# import time\n",
    "# import dmpipeline.GEE_Processing.GEE_generic_functions as geegen\n",
    "\n",
    "# # Exporte composites\n",
    "# month2find = '{}{:02d}'.format(y,m)\n",
    "# N_dec = NDWIcomp_col.size().getInfo()\n",
    "# NDWIcomp_list = NDWIcomp_col.toList(N_dec)\n",
    "# NDVIcomp_list = NDVIcomp_col.toList(N_dec)\n",
    "\n",
    "# for d in range(1,N_dec):#range(N_dec):\n",
    "#   INDICES_comp = {}\n",
    "#   INDICES_comp['NDWI'] = ee.Image(NDWIcomp_list.get(d))\n",
    "#   INDICES_comp['NDVI'] = ee.Image(NDVIcomp_list.get(d))\n",
    "  \n",
    "#   comp_ndwi_filename = f'LANDSAT_SENTINEL2_{tile_L}_{month2find}_NDWI_{COMP_TYPES[d]}'\n",
    "#   comp_ndvi_filename = f'LANDSAT_SENTINEL2_{tile_L}_{month2find}_NDVI_{COMP_TYPES[d]}'\n",
    "\n",
    "#   start_time = time.time()\n",
    "#   geegen.exportImage(CONFIG['DRIVE_FOLDER'], INDICES_comp['NDWI'], comp_ndwi_filename, export_folder=OUTDIR_PATHS[1], path2key=path2key, data_crs=proj['crs'], data_scale=SCALE_OUT, data_region=LANDSAT_GRIDS[tile_L])\n",
    "#   geegen.exportImage(CONFIG['DRIVE_FOLDER'], INDICES_comp['NDVI'], comp_ndvi_filename, export_folder=OUTDIR_PATHS[1], path2key=path2key, data_crs=proj['crs'], data_scale=SCALE_OUT, data_region=LANDSAT_GRIDS[tile_L])  \n",
    "#   elapsed_time = round(time.time() - start_time)\n",
    "\n",
    "#   COMP_dict += [ee.Feature(None, {'TILE': tile_L,\n",
    "#                                   'DATE': month2find,\n",
    "#                                   'COMPOSITE': COMP_TYPES[d],\n",
    "#                                   'L7': 0,\n",
    "#                                   'L8': NBL8_DATES[d],\n",
    "#                                   'L9': NBL9_DATES[d],\n",
    "#                                   'S2': NBS2_DATES[d],\n",
    "#                                   'COMPOSITE NAN SCORE NDWI': COMP_NANSCORES[d]['NDWI'],\n",
    "#                                   'COMPOSITE NAN SCORE NDVI': COMP_NANSCORES[d]['NDVI'],\n",
    "#                                   'COMPOSITE TIME (sec)': elapsed_time})]\n",
    "#   del start_time, elapsed_time, INDICES_comp, comp_ndwi_filename, comp_ndvi_filename\n"
   ]
  },
  {
   "cell_type": "code",
   "execution_count": null,
   "metadata": {},
   "outputs": [],
   "source": [
    "# # --- SAVE TABLES (DATA FRAMES) INTO CSV FILES (LOCAL MACHINE) ---\n",
    "# geegen.exportDataFrame(CONFIG['DRIVE_FOLDER'], QA_dict_L, QAtable_filename_L, QAtable_columns_L, OUTDIR_PATHS[3], path2key)\n",
    "# geegen.exportDataFrame(CONFIG['DRIVE_FOLDER'], QA_dict_S2, QAtable_filename_S2, QAtable_columns_S2, OUTDIR_PATHS[3], path2key)\n",
    "# geegen.exportDataFrame(CONFIG['DRIVE_FOLDER'], COMP_dict, COMPtable_filename, COMPtable_columns, OUTDIR_PATHS[3], path2key)"
   ]
  },
  {
   "attachments": {},
   "cell_type": "markdown",
   "metadata": {},
   "source": [
    "### Test complet avec fonction Run LANDSAT/S2 (intègre différents traitements précédents)"
   ]
  },
  {
   "cell_type": "code",
   "execution_count": null,
   "metadata": {},
   "outputs": [],
   "source": [
    "geemain.run_GEEProcessing_LANDSAT_S2(CONFIG, OUTDIR_PATHS, COLLECTIONS, PARAM, DICT)"
   ]
  }
 ],
 "metadata": {
  "kernelspec": {
   "display_name": "dmpipeline-env",
   "language": "python",
   "name": "python3"
  },
  "language_info": {
   "codemirror_mode": {
    "name": "ipython",
    "version": 3
   },
   "file_extension": ".py",
   "mimetype": "text/x-python",
   "name": "python",
   "nbconvert_exporter": "python",
   "pygments_lexer": "ipython3",
   "version": "3.11.2"
  },
  "orig_nbformat": 4
 },
 "nbformat": 4,
 "nbformat_minor": 2
}
