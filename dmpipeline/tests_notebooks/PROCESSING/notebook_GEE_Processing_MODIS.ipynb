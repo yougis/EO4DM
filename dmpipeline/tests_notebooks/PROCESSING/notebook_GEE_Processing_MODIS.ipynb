{
 "cells": [
  {
   "cell_type": "markdown",
   "metadata": {},
   "source": [
    "# Notebook pour le calcul des indices NDWI, LST (MODIS)"
   ]
  },
  {
   "attachments": {},
   "cell_type": "markdown",
   "metadata": {},
   "source": [
    "### Initialisation contexte test appli"
   ]
  },
  {
   "cell_type": "code",
   "execution_count": null,
   "metadata": {},
   "outputs": [],
   "source": [
    "import os\n",
    "\n",
    "# Manually filling Config dictionnary (can be filled by reading Config_process.env) :\n",
    "\n",
    "CONFIG = {}\n",
    "\n",
    "CONFIG['WRK_DIR'] = os.path.normpath('D:/MATHIS/0_Projet_Secheresse/1_Scripts/toolbox/eo4dm-oeil/EO4DM')\n",
    "os.chdir(CONFIG['WRK_DIR'])\n",
    "CONFIG['WRK_DIR'] = os.path.normpath('Y:/EO4DM')\n",
    "CONFIG['DATA_HISTO'] = os.path.join(CONFIG['WRK_DIR'],'DATA_HISTO')\n",
    "CONFIG['ANNEX_DIR'] = os.path.join(CONFIG['WRK_DIR'],'ANNEX')\n",
    "\n",
    "CONFIG['TERRITORY'] = 'Fiji'\n",
    "CONFIG['MODE'] = 'MANUAL'                                 # 'AUTO', 'MANUAL', 'INDICES' or 'DROUGHT' mode of drought processing chain\n",
    "CONFIG['PERIOD_START'] = '2000-03-03'\n",
    "CONFIG['PERIOD_END'] = '2000-03-04'\n",
    "CONFIG['DRIVE_FOLDER'] = 'EO4DM_EXPORT_NOTEBOOK'\n",
    "CONFIG['LANDMASK_ROI'] = 0                                # if 1, preproc products are masked for pixels outside landmask roi (input shapefile to upload on gee asset)\n",
    "CONFIG['ASSET_EXPORT_L'] = 0                              # if 1, landsat preproc products are exported to gee\n",
    "CONFIG['ASSET_EXPORT_S2'] = 0                             # if 1, s2 preproc products are exported to gee\n",
    "CONFIG['ASSET_EXPORT_MOD'] = 0                            # if 1, modis preproc products are exported to gee\n",
    "CONFIG['CLEAN_GEEFOLDER'] = 0                             # if 1, gee already existing folder is cleaned (deleted, and re-created)\n",
    "CONFIG['CLEAN_GEECOL'] = 0                                # if 1, gee already exported products are cleaned (deleted, and re-created)\n",
    "CONFIG['CLEAN_RUNFOLDER'] = 0                         # if 1, drought already existing folder is cleaned (deleted, and re-created)\n",
    "\n",
    "CONFIG['lon_min_modis'] = ''\n",
    "CONFIG['lat_min_modis'] = ''\n",
    "CONFIG['lon_max_modis'] = ''\n",
    "CONFIG['lat_max_modis'] = ''\n",
    "# CONFIG['lon_min_modis'] = 177.039\n",
    "# CONFIG['lat_min_modis'] = -19.245\n",
    "# CONFIG['lon_max_modis'] = 180.352\n",
    "# CONFIG['lat_max_modis'] = -16.074\n",
    "CONFIG['DROUGHT_STATS'] = 0\n"
   ]
  },
  {
   "cell_type": "markdown",
   "metadata": {},
   "source": [
    "### Création arborescence dossiers DATA et controle ANNEX_DIR"
   ]
  },
  {
   "cell_type": "code",
   "execution_count": null,
   "metadata": {},
   "outputs": [],
   "source": [
    "import dmpipeline.DROUGHT_Processing.DROUGHT_global_functions as dglob\n",
    "dglob.prepare_DATAFolders(CONFIG)"
   ]
  },
  {
   "cell_type": "markdown",
   "metadata": {},
   "source": [
    "### Test détection auto de la période à traiter (en fonction de data_histo)"
   ]
  },
  {
   "cell_type": "code",
   "execution_count": null,
   "metadata": {},
   "outputs": [],
   "source": [
    "import dmpipeline.DROUGHT_Processing.DROUGHT_global_functions as dglob\n",
    "go_process, CONFIG['PERIOD_START'], CONFIG['PERIOD_END'] = dglob.auto_processingPERIOD(CONFIG)\n",
    "\n",
    "print(f'go_process = {go_process}')\n",
    "PERIOD_START = CONFIG['PERIOD_START']\n",
    "PERIOD_END = CONFIG['PERIOD_END']\n",
    "print(f'PERIOD_START = {PERIOD_START}')\n",
    "print(f'PERIOD_END = {PERIOD_END}')\n"
   ]
  },
  {
   "cell_type": "markdown",
   "metadata": {},
   "source": [
    "### Test de disponibilité des produits GEE"
   ]
  },
  {
   "cell_type": "code",
   "execution_count": null,
   "metadata": {},
   "outputs": [],
   "source": [
    "import dmpipeline.GEE_Processing.GEE_main_functions as geemain\n",
    "go_modis, go_month, CONFIG['PERIOD_START'], CONFIG['PERIOD_END'], CONFIG['TERRITORY'] = geemain.check_GEEProducts_MODIS(CONFIG)\n",
    "\n",
    "print(f'go_modis = {go_modis}')\n",
    "print(f'go_month = {go_month}')\n",
    "PERIOD_START = CONFIG['PERIOD_START']\n",
    "PERIOD_END = CONFIG['PERIOD_END']\n",
    "print(f'PERIOD_START = {PERIOD_START}')\n",
    "print(f'PERIOD_END = {PERIOD_END}')"
   ]
  },
  {
   "cell_type": "code",
   "execution_count": null,
   "metadata": {},
   "outputs": [],
   "source": [
    "import dmpipeline.DROUGHT_Processing.DROUGHT_global_functions as dglob\n",
    "OUTDIR_PATHS = dglob.prepare_RUNFolders(CONFIG)"
   ]
  },
  {
   "cell_type": "markdown",
   "metadata": {},
   "source": [
    "### Test auto détermination de la Bounding Box"
   ]
  },
  {
   "cell_type": "code",
   "execution_count": null,
   "metadata": {},
   "outputs": [],
   "source": [
    "CONFIG['lon_min_modis'], CONFIG['lat_min_modis'], CONFIG['lon_max_modis'], CONFIG['lat_max_modis'], CONFIG['TRAN_OUT'] = dglob.auto_processingBBOX(CONFIG)"
   ]
  },
  {
   "cell_type": "code",
   "execution_count": null,
   "metadata": {},
   "outputs": [],
   "source": [
    "CONFIG['lon_min_modis'], CONFIG['lat_min_modis'], CONFIG['lon_max_modis'], CONFIG['lat_max_modis'], CONFIG['TRAN_OUT'] "
   ]
  },
  {
   "cell_type": "code",
   "execution_count": null,
   "metadata": {},
   "outputs": [],
   "source": [
    "TRAN_OUT =  CONFIG['TRAN_OUT']"
   ]
  },
  {
   "cell_type": "code",
   "execution_count": null,
   "metadata": {},
   "outputs": [],
   "source": [
    "import dmpipeline.GEE_Processing.GEE_main_functions as geemain\n",
    "COLLECTIONS, PARAM, DICT = geemain.initialize_GEEProcessing_MODIS(CONFIG, OUTDIR_PATHS[3])"
   ]
  },
  {
   "attachments": {},
   "cell_type": "markdown",
   "metadata": {},
   "source": [
    "### Vérification bonne lecture GEE des collections MODIS"
   ]
  },
  {
   "cell_type": "code",
   "execution_count": null,
   "metadata": {},
   "outputs": [],
   "source": [
    "# LSTaqua_dataset = COLLECTIONS[0]\n",
    "# LSTterra_dataset = COLLECTIONS[1]\n",
    "# REFLECTterra_dataset = src_colLECTIONS[2]\n",
    "# new_collection = COLLECTIONS[3]\n",
    "\n",
    "# Nb_LSTaqua = LSTaqua_dataset.size().getInfo()\n",
    "# Nb_LSTterra = LSTterra_dataset.size().getInfo()\n",
    "# Nb_REFLECTterra = REFLECTterra_dataset.size().getInfo()\n",
    "\n",
    "# TERRITORY = CONFIG['TERRITORY']\n",
    "\n",
    "# print(f' - TERRITORY : {TERRITORY}\\n - PERIOD : {PERIOD_START} -> {PERIOD_END}\\n - NB LST AQUA : {Nb_LSTaqua}\\n - NB LST TERRA : {Nb_LSTterra}\\n - NB REFLECT TERRA : {Nb_REFLECTterra}\\n')\n",
    "# print(f'NEW GEE Collection path:\\n{new_collection}\\n')"
   ]
  },
  {
   "attachments": {},
   "cell_type": "markdown",
   "metadata": {},
   "source": [
    "### Extrait collections (mois m et année y)"
   ]
  },
  {
   "cell_type": "code",
   "execution_count": null,
   "metadata": {},
   "outputs": [],
   "source": [
    "# import ee\n",
    "# import dmpipeline.GEE_Processing.gee_accounts as geeauth\n",
    "\n",
    "# path2key = os.path.dirname(geeauth.__file__)\n",
    "\n",
    "# landmask =  COLLECTIONS[4]\n",
    "# (GRID_OUT, SALE_OUT, date_start, date_end) = PARAM\n",
    "# (QA_dict, QAtable_filename, QAtable_columns, COMP_dict, COMPtable_filename, COMPtable_columns) = DICT\n",
    "\n",
    "# # y=2002\n",
    "# # m=7\n",
    "# y = ee.Date(date_start).get('year').getInfo()\n",
    "# m = ee.Date(date_start).get('month').getInfo()\n",
    "\n",
    "# LSTaqua_month = (LSTaqua_dataset\n",
    "#                 .filter(ee.Filter.calendarRange(y,y,'year'))\n",
    "#                 .filter(ee.Filter.calendarRange(m,m,'month')))\n",
    "# LSTterra_month = (LSTterra_dataset\n",
    "#                   .filter(ee.Filter.calendarRange(y,y,'year'))\n",
    "#                   .filter(ee.Filter.calendarRange(m,m,'month')))\n",
    "# REFLECTterra_month = (REFLECTterra_dataset\n",
    "#                       .filter(ee.Filter.calendarRange(y,y,'year'))\n",
    "#                       .filter(ee.Filter.calendarRange(m,m,'month')))\n"
   ]
  },
  {
   "attachments": {},
   "cell_type": "markdown",
   "metadata": {},
   "source": [
    "### Calcul indices MODIS jour Di"
   ]
  },
  {
   "cell_type": "code",
   "execution_count": null,
   "metadata": {},
   "outputs": [],
   "source": [
    "# # Extrait produits jour=di\n",
    "# di = 1\n",
    "\n",
    "# lst_aqua = (LSTaqua_month\n",
    "#                 .filter(ee.Filter.calendarRange(di,di,'DAY_OF_MONTH'))\n",
    "#                 .first())\n",
    "# lst_terra = (LSTterra_month\n",
    "#                 .filter(ee.Filter.calendarRange(di,di,'DAY_OF_MONTH'))\n",
    "#                 .first())\n",
    "# reflect = (REFLECTterra_month\n",
    "#                 .filter(ee.Filter.calendarRange(di,di,'DAY_OF_MONTH'))\n",
    "#                 .first())"
   ]
  },
  {
   "cell_type": "code",
   "execution_count": null,
   "metadata": {},
   "outputs": [],
   "source": [
    "# import dmpipeline.GEE_Processing.GEE_preprocessing_functions as geeprep\n",
    "\n",
    "# # Calcul indices jour=di\n",
    "# indices_preproc, QA_dict  = geeprep.preprocessingMODIS(lst_aqua, lst_terra, reflect, landmask, new_collection, QA_dict, CONFIG['CRS_OUT_modis'], GRID_OUT, SALE_OUT, path2key, int(CONFIG['ASSET_EXPORT']))"
   ]
  },
  {
   "cell_type": "code",
   "execution_count": null,
   "metadata": {},
   "outputs": [],
   "source": [
    "# bands = indices_preproc.bandNames().getInfo()\n",
    "# LST = indices_preproc.select('LST')\n",
    "# NDWI = indices_preproc.select('NDWI')\n",
    "# crs_lst = LST.projection().getInfo()['crs']\n",
    "# crs_ndwi = NDWI.projection().getInfo()['crs']\n",
    "# QA_di = QA_dict[0].getInfo()['properties']\n",
    "\n",
    "# print(f'\\nbands Di = {bands}')\n",
    "# print(f'\\ncrs lst Di = {crs_lst}')\n",
    "# print(f'\\ncrs ndwi Di = {crs_ndwi}')\n",
    "# print(f'\\nQA_dict Di = {QA_di}')\n"
   ]
  },
  {
   "attachments": {},
   "cell_type": "markdown",
   "metadata": {},
   "source": [
    "### Calcul indices MODIS jour Di+1"
   ]
  },
  {
   "cell_type": "code",
   "execution_count": null,
   "metadata": {},
   "outputs": [],
   "source": [
    "# # Extrait produits jour=di+1\n",
    "# dip1 = 2\n",
    "\n",
    "# lst_aqua = (LSTaqua_month\n",
    "#                 .filter(ee.Filter.calendarRange(dip1,dip1,'DAY_OF_MONTH'))\n",
    "#                 .first())\n",
    "# lst_terra = (LSTterra_month\n",
    "#                 .filter(ee.Filter.calendarRange(dip1,dip1,'DAY_OF_MONTH'))\n",
    "#                 .first())\n",
    "# reflect = (REFLECTterra_month\n",
    "#                 .filter(ee.Filter.calendarRange(dip1,dip1,'DAY_OF_MONTH'))\n",
    "#                 .first())"
   ]
  },
  {
   "cell_type": "code",
   "execution_count": null,
   "metadata": {},
   "outputs": [],
   "source": [
    "# # Calcul indices jour=di+1\n",
    "# indices_preproc_dip1, QA_dict  = geeprep.preprocessingMODIS(lst_aqua, lst_terra, reflect, landmask, new_collection, QA_dict, CONFIG['CRS_OUT_modis'], GRID_OUT, SALE_OUT, path2key, int(CONFIG['ASSET_EXPORT']))"
   ]
  },
  {
   "cell_type": "code",
   "execution_count": null,
   "metadata": {},
   "outputs": [],
   "source": [
    "# bands = indices_preproc_dip1.bandNames().getInfo()\n",
    "# LST = indices_preproc_dip1.select('LST')\n",
    "# NDWI = indices_preproc_dip1.select('NDWI')\n",
    "# crs_lst = LST.projection().getInfo()['crs']\n",
    "# crs_ndwi = NDWI.projection().getInfo()['crs']\n",
    "# QA_dip1 = QA_dict[1].getInfo()['properties']\n",
    "\n",
    "# print(f'\\nbands Di+1 = {bands}')\n",
    "# print(f'\\ncrs lst Di+1 = {crs_lst}')\n",
    "# print(f'\\ncrs ndwi Di+1 = {crs_ndwi}')\n",
    "# print(f'\\nQA_dict Di+1 = {QA_dip1}')"
   ]
  },
  {
   "attachments": {},
   "cell_type": "markdown",
   "metadata": {},
   "source": [
    "### Test Composition temporelle indices MODIS sur deux dates (Di et Di+1)"
   ]
  },
  {
   "cell_type": "code",
   "execution_count": null,
   "metadata": {},
   "outputs": [],
   "source": [
    "# # Load already processed indices (to avoid running again above lines)\n",
    "# import ee\n",
    "# import GEE_Processing.GEE_generic_functions as geegen\n",
    "\n",
    "# project_id = geegen.googleAuthentification(os.path.join(os.getcwd(),'GEE_Processing'))\n",
    "# new_collection = 'projects/eo4dm-367504/assets/PREPROC_GLOBAL_INDICES_200301_200301_New_Caledonia_Fr/MODIS'\n",
    "\n",
    "# di = 1\n",
    "# indices_preproc = ee.ImageCollection(new_collection).filter(ee.Filter.calendarRange(di,di,'DAY_OF_MONTH')).first()\n",
    "\n",
    "# dip1 = 2\n",
    "# indices_preproc = ee.ImageCollection(new_collection).filter(ee.Filter.calendarRange(dip1,dip1,'DAY_OF_MONTH')).first()\n",
    "\n",
    "# GRID_OUT =  ee.Geometry.Polygon([[[BBOX_OUT['lon_min'], BBOX_OUT['lat_max']],\n",
    "#                                   [BBOX_OUT['lon_min'], BBOX_OUT['lat_min']],\n",
    "#                                   [BBOX_OUT['lon_max'], BBOX_OUT['lat_min']],\n",
    "#                                   [BBOX_OUT['lon_max'], BBOX_OUT['lat_max']]]],None, False)\n",
    "\n",
    "# SCALE_REFLECT = new_ndwi_di.select('NDWI').projection().nominalScale()\n",
    "\n",
    "# print(indices_preproc.bandNames().getInfo())\n",
    "# print(indices_preproc.date().format('YYYYMMdd').getInfo())\n",
    "# print(indices_preproc_dip1.bandNames().getInfo())\n",
    "# print(indices_preproc_dip1.date().format('YYYYMMdd').getInfo())\n"
   ]
  },
  {
   "cell_type": "code",
   "execution_count": null,
   "metadata": {},
   "outputs": [],
   "source": [
    "# # Concatenates both images into a single image collection\n",
    "# indices_comp = ee.ImageCollection([indices_preproc, indices_preproc_dip1])"
   ]
  },
  {
   "cell_type": "code",
   "execution_count": null,
   "metadata": {},
   "outputs": [],
   "source": [
    "# import dmpipeline.GEE_Processing.GEE_compositing_functions as geecomp\n",
    "\n",
    "# # Computes composite on each band\n",
    "# INDICES_comp = geecomp.extractComposite(indices_comp, GRID_OUT)"
   ]
  },
  {
   "cell_type": "code",
   "execution_count": null,
   "metadata": {},
   "outputs": [],
   "source": [
    "# LST_comp = INDICES_comp['LST']\n",
    "# NDWI_comp = INDICES_comp['NDWI']\n",
    "\n",
    "# band_lst_comp = LST_comp.bandNames().getInfo()\n",
    "# band_ndwi_comp = NDWI_comp.bandNames().getInfo()\n",
    "# crs_lst_comp = LST_comp.projection().getInfo()['crs']\n",
    "# crs_ndwi_comp = NDWI_comp.projection().getInfo()['crs']\n",
    "\n",
    "# print(f'\\nbands comp LST = {band_lst_comp}')\n",
    "# print(f'\\nbands comp NDWI = {band_ndwi_comp}')\n",
    "\n",
    "# print(f'\\ncrs comp LST = {crs_lst_comp}')\n",
    "# print(f'\\ncrs comp NDWI = {crs_ndwi_comp}')"
   ]
  },
  {
   "cell_type": "code",
   "execution_count": null,
   "metadata": {},
   "outputs": [],
   "source": [
    "# import dmpipeline.GEE_Processing.GEE_generic_functions as geegen\n",
    "\n",
    "# comp_lst_filename = f'MODIS_LST_COMP'\n",
    "# comp_ndwi_filename = f'MODIS_NDWI_COMP'"
   ]
  },
  {
   "cell_type": "code",
   "execution_count": null,
   "metadata": {},
   "outputs": [],
   "source": [
    "# geegen.exportImage(CONFIG['DRIVE_FOLDER'], INDICES_comp['LST'], comp_lst_filename, export_folder=OUTDIR_PATHS[1], path2key=path2key, data_crs=CONFIG['CRS_OUT_modis'], data_scale=SCALE_REFLECT, data_region=GRID_OUT)\n",
    "# geegen.exportImage(CONFIG['DRIVE_FOLDER'], INDICES_comp['NDWI'], comp_ndwi_filename, export_folder=OUTDIR_PATHS[1] path2key=path2key, data_crs=CONFIG['CRS_OUT_modis'], data_scale=SCALE_REFLECT, data_region=GRID_OUT)"
   ]
  },
  {
   "attachments": {},
   "cell_type": "markdown",
   "metadata": {},
   "source": [
    "### Composition temporelle des indices MODIS par décade (sur un mois)"
   ]
  },
  {
   "cell_type": "code",
   "execution_count": null,
   "metadata": {},
   "outputs": [],
   "source": [
    "# import dmpipeline.GEE_Processing.GEE_compositing_functions as geecomp\n",
    "\n",
    "# # Calcul composites décades\n",
    "# (LSTcomp_col, NDWIcomp_col, QA_dict, COMP_TYPES,\n",
    "#  COMP_NANSCORES, NBLST_DATES, NBREFLECT_DATES) = geecomp.processCompositeDecade_MODIS(LSTaqua_month, LSTterra_month, REFLECTterra_month,\n",
    "#                                                                                       landmask, new_collection, QA_dict, CONFIG['CRS_OUT_modis'], GRID_OUT,\n",
    "#                                                                                       SALE_OUT, path2key, CONFIG['ASSET_EXPORT'])"
   ]
  },
  {
   "cell_type": "code",
   "execution_count": null,
   "metadata": {},
   "outputs": [],
   "source": [
    "# import time\n",
    "# import dmpipeline.GEE_Processing.GEE_generic_functions as geegen\n",
    "\n",
    "# # Exporte composites\n",
    "# month2find = '{}{:02d}'.format(y,m)\n",
    "# N_dec = LSTcomp_col.size().getInfo()\n",
    "# LSTcomp_list = LSTcomp_col.toList(N_dec)\n",
    "# NDWIcomp_list = NDWIcomp_col.toList(N_dec)\n"
   ]
  },
  {
   "cell_type": "code",
   "execution_count": null,
   "metadata": {},
   "outputs": [],
   "source": [
    "\n",
    "# for d in range(N_dec):\n",
    "\n",
    "#     LST_comp = ee.Image(LSTcomp_list.get(d))\n",
    "#     NDWI_comp = ee.Image(NDWIcomp_list.get(d))\n",
    "    \n",
    "#     comp_lst_filename = f'MODIS_LST_{month2find}_{COMP_TYPES[d]}'\n",
    "#     comp_ndwi_filename = f'MODIS_NDWI_{month2find}_{COMP_TYPES[d]}'\n",
    "\n",
    "#     start_time = time.time()\n",
    "#     geegen.exportImage(CONFIG['DRIVE_FOLDER'], LST_comp, comp_lst_filename, export_folder=OUTDIR_PATHS[1], path2key=path2key, data_crs=CONFIG['CRS_OUT_modis'], data_scale=SCALE_REFLECT, data_region=GRID_OUT)\n",
    "#     geegen.exportImage(CONFIG['DRIVE_FOLDER'], NDWI_comp, comp_ndwi_filename, export_folder=OUTDIR_PATHS[1], path2key=path2key, data_crs=CONFIG['CRS_OUT_modis'], data_scale=SCALE_REFLECT, data_region=GRID_OUT)\n",
    "#     elapsed_time = round(time.time() - start_time)\n",
    "\n",
    "#     COMP_dict += [ee.Feature(None, {'DATE': month2find,\n",
    "#                                     'COMPOSITE': COMP_TYPES[d],\n",
    "#                                     'AquaTerra LST': NBLST_DATES[d],\n",
    "#                                     'Terra REFLECT': NBREFLECT_DATES[d],\n",
    "#                                     'COMPOSITE NAN SCORE LST': COMP_NANSCORES[d]['LST'],\n",
    "#                                     'COMPOSITE NAN SCORE NDWI': COMP_NANSCORES[d]['NDWI'],\n",
    "    #                                 'COMPOSITE TIME (sec)': elapsed_time})]\n",
    "    # del start_time, elapsed_time"
   ]
  },
  {
   "cell_type": "code",
   "execution_count": null,
   "metadata": {},
   "outputs": [],
   "source": [
    "# # --- SAVE TABLES (DATA FRAMES) INTO CSV FILES (LOCAL MACHINE) ---\n",
    "# geegen.exportDataFrame(CONFIG['DRIVE_FOLDER'], QA_dict, QAtable_filename, QAtable_columns, OUTDIR_PATHS[3], path2key)\n",
    "# geegen.exportDataFrame(CONFIG['DRIVE_FOLDER'], COMP_dict, COMPtable_filename, COMPtable_columns, OUTDIR_PATHS[3], path2key)"
   ]
  },
  {
   "attachments": {},
   "cell_type": "markdown",
   "metadata": {},
   "source": [
    "### Test complet avec fonction Run MODIS (intègre différents traitements précédents)"
   ]
  },
  {
   "cell_type": "code",
   "execution_count": null,
   "metadata": {},
   "outputs": [],
   "source": [
    "geemain.run_GEEProcessing_MODIS(CONFIG, OUTDIR_PATHS, COLLECTIONS, PARAM, DICT, go_month)"
   ]
  }
 ],
 "metadata": {
  "kernelspec": {
   "display_name": "dmpipeline-env",
   "language": "python",
   "name": "python3"
  },
  "language_info": {
   "codemirror_mode": {
    "name": "ipython",
    "version": 3
   },
   "file_extension": ".py",
   "mimetype": "text/x-python",
   "name": "python",
   "nbconvert_exporter": "python",
   "pygments_lexer": "ipython3",
   "version": "3.11.2"
  },
  "orig_nbformat": 4
 },
 "nbformat": 4,
 "nbformat_minor": 2
}
